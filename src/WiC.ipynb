{
 "cells": [
  {
   "cell_type": "code",
   "execution_count": 1,
   "metadata": {},
   "outputs": [],
   "source": [
    "from IPython.display import clear_output\r\n",
    "from functions import *\r\n",
    "import numpy as np\r\n",
    "import pandas as pd\r\n",
    "from transformers import *\r\n",
    "from transformers.tokenization_utils import TextInputPair\r\n",
    "from sklearn.neural_network import MLPClassifier\r\n",
    "import tensorflow as tf\r\n",
    "import pickle\r\n",
    "import scipy as sc\r\n",
    "import math as mt\r\n",
    "from joblib import dump, load"
   ]
  },
  {
   "cell_type": "markdown",
   "metadata": {},
   "source": [
    "### Load BERT & Data"
   ]
  },
  {
   "cell_type": "code",
   "execution_count": 2,
   "metadata": {},
   "outputs": [],
   "source": [
    "# BERT\r\n",
    "casing = \"bert-base-uncased\" \r\n",
    "tokenizer = BertTokenizer.from_pretrained(casing, do_lower_case=True, add_special_tokens=True)\r\n",
    "\r\n",
    "config = BertConfig(dropout=0.2, attention_dropout=0.2 ) #hidden_dropout_prob=0.2, attention_probs_dropout_prob=0.2\r\n",
    "config.output_hidden_states = False # if true outputs all layers\r\n",
    "\r\n",
    "model = TFBertModel.from_pretrained(casing, config = config)\r\n",
    "model.trainable = False\r\n",
    "emb_len = 768\r\n",
    "clear_output()\r\n",
    "\r\n",
    "# BERT\r\n",
    "n_cluster = 27 # Number of clusters to use\r\n",
    "n_pc = 12 # Number of main principal components to drop for local method\r\n",
    "n_pc_global = 15 # Number of main principal components to drop for global method"
   ]
  },
  {
   "cell_type": "code",
   "execution_count": 3,
   "metadata": {},
   "outputs": [],
   "source": [
    "## Read data, append sentences..\r\n",
    "df_tr = pd.read_json('../data/WiC/train.jsonl', lines=True)\r\n",
    "df_dev = pd.read_json('../data/WiC/val.jsonl', lines=True)\r\n",
    "df_te = pd.read_json('../data/WiC/test.jsonl', lines=True)\r\n",
    "df_te[\"label\"] = False\r\n",
    "train_stop_ix = len(df_tr) \r\n",
    "dev_stop_ix = len(df_tr) + len(df_dev)"
   ]
  },
  {
   "cell_type": "code",
   "execution_count": 4,
   "metadata": {},
   "outputs": [],
   "source": [
    "df = pd.concat([df_tr, df_dev, df_te])"
   ]
  },
  {
   "cell_type": "markdown",
   "metadata": {},
   "source": [
    "### Encode (tokenize) all pairs of sentences"
   ]
  },
  {
   "cell_type": "code",
   "execution_count": 5,
   "metadata": {},
   "outputs": [],
   "source": [
    "tuple_list = list(zip(df[\"sentence1\"].to_list(), df[\"sentence2\"].to_list()))\r\n",
    "encodings = tokenizer.batch_encode_plus(tuple_list, max_length=64, pad_to_max_length=True)"
   ]
  },
  {
   "cell_type": "code",
   "execution_count": null,
   "metadata": {},
   "outputs": [],
   "source": [
    "embarray = np.load(\"wic-bert-embs.npy\")"
   ]
  },
  {
   "cell_type": "markdown",
   "metadata": {},
   "source": [
    "Run commented cells below if no saved embeddings"
   ]
  },
  {
   "cell_type": "code",
   "execution_count": 7,
   "metadata": {},
   "outputs": [],
   "source": [
    "#embarray = np.zeros((len(df), len(encodings[\"input_ids\"][0]), 768), dtype=np.float32)"
   ]
  },
  {
   "cell_type": "code",
   "execution_count": 14,
   "metadata": {},
   "outputs": [
    {
     "name": "stdout",
     "output_type": "stream",
     "text": [
      "7410\n",
      "7420\n",
      "7430\n",
      "7440\n",
      "7450\n",
      "7460\n",
      "7470\n"
     ]
    }
   ],
   "source": [
    "#embarray = get_model_features(df, 10, encodings, model, embarray)"
   ]
  },
  {
   "cell_type": "code",
   "execution_count": 15,
   "metadata": {},
   "outputs": [],
   "source": [
    "#np.save(\"wic-bert-embs.npy\",embarray)"
   ]
  },
  {
   "cell_type": "markdown",
   "metadata": {},
   "source": [
    "## Get baseline, local & global representations"
   ]
  },
  {
   "cell_type": "code",
   "execution_count": 8,
   "metadata": {},
   "outputs": [],
   "source": [
    "words = getWords(embarray)"
   ]
  },
  {
   "cell_type": "code",
   "execution_count": 9,
   "metadata": {},
   "outputs": [],
   "source": [
    "# BASELINE\r\n",
    "baseline_sentence_rep = embarray.reshape((-1,768*64))"
   ]
  },
  {
   "cell_type": "code",
   "execution_count": 10,
   "metadata": {},
   "outputs": [],
   "source": [
    "# GLOBAL METHOD - run commented lines if not available\r\n",
    "global_sentence_rep = np.load(\"global_sent_wic.npy\")\r\n",
    "# global_representations = global_method(np.asarray(words), n_pc_global, emb_len)\r\n",
    "# global_sentence_rep = flatten_pooling(global_representations, embarray)\r\n",
    "# np.save(\"global_sent_wic.npy\",global_sentence_rep)"
   ]
  },
  {
   "cell_type": "code",
   "execution_count": 11,
   "metadata": {},
   "outputs": [],
   "source": [
    "# LOCAL METHOD\r\n",
    "isotropic_representations = cluster_based(np.asarray(words), n_cluster, n_pc, emb_len)\r\n",
    "sentence_rep = flatten_pooling(isotropic_representations, embarray)"
   ]
  },
  {
   "cell_type": "markdown",
   "metadata": {},
   "source": [
    "## Train & Test"
   ]
  },
  {
   "cell_type": "code",
   "execution_count": 12,
   "metadata": {},
   "outputs": [],
   "source": [
    "# Simple train/test split - only for quick testing purposes. Reported scores are based on GLUE/SuperGLUE official test submissions.\r\n",
    "Y = np.asarray((df[\"label\"]).to_list())\r\n",
    "Y_tr = Y[:train_stop_ix]\r\n",
    "Y_dev = Y[train_stop_ix:dev_stop_ix]\r\n",
    "Y_te = Y[dev_stop_ix:]"
   ]
  },
  {
   "cell_type": "markdown",
   "metadata": {},
   "source": [
    "### Baseline"
   ]
  },
  {
   "cell_type": "code",
   "execution_count": 50,
   "metadata": {},
   "outputs": [],
   "source": [
    "reps_base = np.asarray(baseline_sentence_rep)\r\n",
    "X_tr = reps_base[:train_stop_ix]\r\n",
    "X_dev = reps_base[train_stop_ix:dev_stop_ix]\r\n",
    "X_te = reps_base[dev_stop_ix:]"
   ]
  },
  {
   "cell_type": "code",
   "execution_count": 51,
   "metadata": {},
   "outputs": [
    {
     "name": "stdout",
     "output_type": "stream",
     "text": [
      "epoch 1, score: 0.5407523510971787\n",
      "epoch 2, score: 0.5532915360501567\n",
      "epoch 3, score: 0.5877742946708464\n",
      "epoch 4, score: 0.6050156739811913\n",
      "epoch 5, score: 0.622257053291536\n",
      "epoch 6, score: 0.6394984326018809\n",
      "epoch 7, score: 0.6332288401253918\n",
      "epoch 8, score: 0.6379310344827587\n",
      "epoch 9, score: 0.6159874608150471\n",
      "epoch 10, score: 0.6394984326018809\n"
     ]
    }
   ],
   "source": [
    "clf1, score1 = get_best_classifier(10,X_tr,Y_tr,X_dev,Y_dev)"
   ]
  },
  {
   "cell_type": "markdown",
   "metadata": {},
   "source": [
    "### Global"
   ]
  },
  {
   "cell_type": "code",
   "execution_count": 52,
   "metadata": {},
   "outputs": [],
   "source": [
    "reps_global = np.asarray(global_sentence_rep)\r\n",
    "X_tr = reps_global[:train_stop_ix]\r\n",
    "X_dev = reps_global[train_stop_ix:dev_stop_ix]\r\n",
    "X_te = reps_global[dev_stop_ix:]"
   ]
  },
  {
   "cell_type": "code",
   "execution_count": 53,
   "metadata": {},
   "outputs": [
    {
     "name": "stdout",
     "output_type": "stream",
     "text": [
      "epoch 1, score: 0.609717868338558\n",
      "epoch 2, score: 0.64576802507837\n",
      "epoch 3, score: 0.6473354231974922\n",
      "epoch 4, score: 0.6285266457680251\n",
      "epoch 5, score: 0.6379310344827587\n",
      "epoch 6, score: 0.6426332288401254\n",
      "epoch 7, score: 0.6536050156739812\n",
      "epoch 8, score: 0.6410658307210031\n",
      "epoch 9, score: 0.6410658307210031\n",
      "epoch 10, score: 0.6489028213166145\n"
     ]
    }
   ],
   "source": [
    "clf2, score2 = get_best_classifier(10,X_tr,Y_tr,X_dev,Y_dev)"
   ]
  },
  {
   "cell_type": "markdown",
   "metadata": {},
   "source": [
    "### Local"
   ]
  },
  {
   "cell_type": "code",
   "execution_count": 54,
   "metadata": {},
   "outputs": [],
   "source": [
    "# LOCAL METHOD\r\n",
    "isotropic_representations = cluster_based(np.asarray(words), n_cluster, n_pc, emb_len)\r\n",
    "sentence_rep = flatten_pooling(isotropic_representations, embarray)"
   ]
  },
  {
   "cell_type": "code",
   "execution_count": 55,
   "metadata": {},
   "outputs": [],
   "source": [
    "reps_local = np.asarray(sentence_rep)\r\n",
    "X_tr = reps_local[:train_stop_ix]\r\n",
    "X_dev = reps_local[train_stop_ix:dev_stop_ix]\r\n",
    "X_te = reps_local[dev_stop_ix:]"
   ]
  },
  {
   "cell_type": "code",
   "execution_count": 56,
   "metadata": {},
   "outputs": [
    {
     "name": "stdout",
     "output_type": "stream",
     "text": [
      "epoch 1, score: 0.5924764890282131\n",
      "epoch 2, score: 0.6175548589341693\n",
      "epoch 3, score: 0.6128526645768025\n",
      "epoch 4, score: 0.6285266457680251\n",
      "epoch 5, score: 0.6050156739811913\n",
      "epoch 6, score: 0.6112852664576802\n",
      "epoch 7, score: 0.6112852664576802\n",
      "epoch 8, score: 0.6112852664576802\n",
      "epoch 9, score: 0.6050156739811913\n",
      "epoch 10, score: 0.609717868338558\n"
     ]
    }
   ],
   "source": [
    "clf3, score3 = get_best_classifier(10,X_tr,Y_tr,X_dev,Y_dev)"
   ]
  },
  {
   "cell_type": "markdown",
   "metadata": {},
   "source": [
    "## Get test set predictions"
   ]
  },
  {
   "cell_type": "code",
   "execution_count": 30,
   "metadata": {},
   "outputs": [
    {
     "data": {
      "text/plain": "['clf3_wic.joblib']"
     },
     "execution_count": 30,
     "metadata": {},
     "output_type": "execute_result"
    }
   ],
   "source": [
    "dump(clf1, \"clf1_wic.joblib\")\r\n",
    "dump(clf2, \"clf2_wic.joblib\")\r\n",
    "dump(clf3, \"clf3_wic.joblib\")\r\n",
    "# clf1 = load(\"clf1_wic.joblib\")\r\n",
    "# clf2 = load(\"clf2_wic.joblib\")\r\n",
    "# clf3 = load(\"clf3_wic.joblib\")"
   ]
  },
  {
   "cell_type": "code",
   "execution_count": 19,
   "metadata": {},
   "outputs": [],
   "source": [
    "dft = pd.read_json('../data/WiC/test.jsonl', lines=True)"
   ]
  },
  {
   "cell_type": "code",
   "execution_count": 57,
   "metadata": {},
   "outputs": [],
   "source": [
    "preds_baseline = clf1.predict(baseline_sentence_rep[dev_stop_ix:])\r\n",
    "preds_global = clf2.predict(global_sentence_rep[dev_stop_ix:])\r\n",
    "preds_local = clf3.predict(sentence_rep[dev_stop_ix:])"
   ]
  },
  {
   "cell_type": "code",
   "execution_count": 58,
   "metadata": {},
   "outputs": [],
   "source": [
    "dft[\"label\"] = preds_local\r\n",
    "dft[\"label\"] = dft[\"label\"].replace([False,True],[\"false\",\"true\"])\r\n",
    "dft[[\"idx\",\"label\"]].to_json(\"../results/WiC_local5.jsonl\", lines=True, orient=\"records\")\r\n",
    "dft[\"label\"] = preds_global\r\n",
    "dft[\"label\"] = dft[\"label\"].replace([False,True],[\"false\",\"true\"])\r\n",
    "dft[[\"idx\",\"label\"]].to_json(\"../results/WiC_global5.jsonl\", lines=True, orient=\"records\")\r\n",
    "dft[\"label\"] = preds_baseline\r\n",
    "dft[\"label\"] = dft[\"label\"].replace([False,True],[\"false\",\"true\"])\r\n",
    "dft[[\"idx\",\"label\"]].to_json(\"../results/WiC_baseline5.jsonl\", lines=True, orient=\"records\")"
   ]
  }
 ],
 "metadata": {
  "kernelspec": {
   "display_name": "Python 3.8.11 64-bit",
   "name": "python3811jvsc74a57bd0556d0f6bb3e19b5350a50c9b037347830b2ef0c6b7dbb2b89c6068584bda62c6"
  },
  "language_info": {
   "name": "python",
   "version": ""
  },
  "orig_nbformat": 2
 },
 "nbformat": 4,
 "nbformat_minor": 2
}