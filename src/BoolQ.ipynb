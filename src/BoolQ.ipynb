{
 "cells": [
  {
   "cell_type": "code",
   "execution_count": 1,
   "metadata": {},
   "outputs": [],
   "source": [
    "from IPython.display import clear_output\r\n",
    "from functions import *\r\n",
    "import numpy as np\r\n",
    "import pandas as pd\r\n",
    "from transformers import *\r\n",
    "from transformers.tokenization_utils import TextInputPair\r\n",
    "from sklearn.neural_network import MLPClassifier\r\n",
    "import tensorflow as tf\r\n",
    "import pickle\r\n",
    "import scipy as sc\r\n",
    "import math as mt\r\n",
    "from joblib import dump, load"
   ]
  },
  {
   "cell_type": "markdown",
   "metadata": {},
   "source": [
    "### Load BERT & Data"
   ]
  },
  {
   "cell_type": "code",
   "execution_count": 2,
   "metadata": {},
   "outputs": [],
   "source": [
    "# BERT\r\n",
    "casing = \"bert-base-uncased\" \r\n",
    "tokenizer = BertTokenizer.from_pretrained(casing, do_lower_case=True, add_special_tokens=True)\r\n",
    "\r\n",
    "config = BertConfig(dropout=0.2, attention_dropout=0.2 ) #hidden_dropout_prob=0.2, attention_probs_dropout_prob=0.2\r\n",
    "config.output_hidden_states = False # if true outputs all layers\r\n",
    "\r\n",
    "model = TFBertModel.from_pretrained(casing, config = config)\r\n",
    "model.trainable = False\r\n",
    "emb_len = 768\r\n",
    "clear_output()\r\n",
    "\r\n",
    "# BERT\r\n",
    "n_cluster = 27 # Number of clusters to use\r\n",
    "n_pc = 12 # Number of main principal components to drop for local method\r\n",
    "n_pc_global = 15 # Number of main principal components to drop for global method"
   ]
  },
  {
   "cell_type": "code",
   "execution_count": 3,
   "metadata": {},
   "outputs": [],
   "source": [
    "## Read data, append sentences..\r\n",
    "df = pd.read_json('../data/BoolQ/train.jsonl', lines=True)"
   ]
  },
  {
   "cell_type": "markdown",
   "metadata": {},
   "source": [
    "### Encode (tokenize) all pairs of sentences"
   ]
  },
  {
   "cell_type": "code",
   "execution_count": 4,
   "metadata": {},
   "outputs": [],
   "source": [
    "tuple_list = list(zip(df[\"question\"].to_list(), df[\"passage\"].to_list()))\r\n",
    "encodings = tokenizer.batch_encode_plus(tuple_list, max_length=64, pad_to_max_length=True)"
   ]
  },
  {
   "cell_type": "code",
   "execution_count": 5,
   "metadata": {},
   "outputs": [],
   "source": [
    "# embarray = np.zeros((len(df), len(encodings[\"input_ids\"][0]), 768), dtype=np.float32)\r\n",
    "embarray = np.load(\"boolq-bert-embs.npy\")"
   ]
  },
  {
   "cell_type": "code",
   "execution_count": null,
   "metadata": {},
   "outputs": [],
   "source": [
    "# embarray = get_model_features(df, 10, encodings, model, embarray)"
   ]
  },
  {
   "cell_type": "code",
   "execution_count": 7,
   "metadata": {},
   "outputs": [],
   "source": [
    "# np.save(\"boolq-bert-embs.npy\",embarray)"
   ]
  },
  {
   "cell_type": "markdown",
   "metadata": {},
   "source": [
    "## Get baseline, local & global representations"
   ]
  },
  {
   "cell_type": "code",
   "execution_count": 6,
   "metadata": {},
   "outputs": [],
   "source": [
    "words = getWords(embarray)"
   ]
  },
  {
   "cell_type": "code",
   "execution_count": 7,
   "metadata": {},
   "outputs": [],
   "source": [
    "# BASELINE\r\n",
    "baseline_sentence_rep = embarray.reshape((-1,768*64))"
   ]
  },
  {
   "cell_type": "code",
   "execution_count": 8,
   "metadata": {},
   "outputs": [],
   "source": [
    "# GLOBAL METHOD\r\n",
    "# global_representations = global_method(np.asarray(words), n_pc_global, emb_len)\r\n",
    "# global_sentence_rep = flatten_pooling(global_representations, embarray)\r\n",
    "# np.save(\"global_sent_boolq.npy\",global_sentence_rep)\r\n",
    "global_sentence_rep = np.load(\"global_sent_boolq.npy\")"
   ]
  },
  {
   "cell_type": "code",
   "execution_count": 12,
   "metadata": {},
   "outputs": [],
   "source": [
    "# LOCAL METHOD\r\n",
    "isotropic_representations = cluster_based(np.asarray(words), n_cluster, n_pc, emb_len)\r\n",
    "sentence_rep = flatten_pooling(isotropic_representations, embarray)"
   ]
  },
  {
   "cell_type": "markdown",
   "metadata": {},
   "source": [
    "## Train & Test"
   ]
  },
  {
   "cell_type": "code",
   "execution_count": 14,
   "metadata": {},
   "outputs": [],
   "source": [
    "# Simple train/test split - only for quick testing purposes. Reported scores are based on GLUE/SuperGLUE official test submissions.\r\n",
    "Y = np.asarray((df[\"label\"]).to_list())\r\n",
    "Y_tr = Y[:]\r\n",
    "#Y_te = Y[2000:]"
   ]
  },
  {
   "cell_type": "markdown",
   "metadata": {},
   "source": [
    "### Baseline"
   ]
  },
  {
   "cell_type": "code",
   "execution_count": 15,
   "metadata": {},
   "outputs": [],
   "source": [
    "avg_reps_base = np.asarray(baseline_sentence_rep)\r\n",
    "X_tr = avg_reps_base[:]"
   ]
  },
  {
   "cell_type": "code",
   "execution_count": 16,
   "metadata": {},
   "outputs": [
    {
     "data": {
      "text/plain": "MLPClassifier(learning_rate_init=0.005)"
     },
     "execution_count": 16,
     "metadata": {},
     "output_type": "execute_result"
    }
   ],
   "source": [
    "clf1 = MLPClassifier(hidden_layer_sizes=(100,), activation=\"relu\", solver=\"adam\", learning_rate_init=5e-3 )\r\n",
    "clf1.fit(X_tr, Y_tr)"
   ]
  },
  {
   "cell_type": "markdown",
   "metadata": {},
   "source": [
    "### Global"
   ]
  },
  {
   "cell_type": "code",
   "execution_count": 17,
   "metadata": {},
   "outputs": [],
   "source": [
    "avg_reps_global = np.asarray(global_sentence_rep)\r\n",
    "X_tr = avg_reps_global[:]\r\n",
    "#X_te = avg_reps_global[2000:]"
   ]
  },
  {
   "cell_type": "code",
   "execution_count": 18,
   "metadata": {},
   "outputs": [
    {
     "data": {
      "text/plain": "MLPClassifier(learning_rate_init=0.005)"
     },
     "execution_count": 18,
     "metadata": {},
     "output_type": "execute_result"
    }
   ],
   "source": [
    "clf2 = MLPClassifier(hidden_layer_sizes=(100,), activation=\"relu\", solver=\"adam\", learning_rate_init=5e-3 )\r\n",
    "clf2.fit(X_tr, Y_tr)\r\n",
    "#clf2.score(X_te,Y_te)"
   ]
  },
  {
   "cell_type": "markdown",
   "metadata": {},
   "source": [
    "### Local"
   ]
  },
  {
   "cell_type": "code",
   "execution_count": 19,
   "metadata": {},
   "outputs": [],
   "source": [
    "avg_reps_local = np.asarray(sentence_rep)\r\n",
    "X_tr = avg_reps_local[:]\r\n",
    "#X_te = avg_reps_local[2000:]"
   ]
  },
  {
   "cell_type": "code",
   "execution_count": 20,
   "metadata": {},
   "outputs": [
    {
     "data": {
      "text/plain": "MLPClassifier(learning_rate_init=0.005)"
     },
     "execution_count": 20,
     "metadata": {},
     "output_type": "execute_result"
    }
   ],
   "source": [
    "clf3 = MLPClassifier(hidden_layer_sizes=(100,), activation=\"relu\", solver=\"adam\", learning_rate_init=5e-3 )\r\n",
    "clf3.fit(X_tr, Y_tr)\r\n",
    "#clf3.score(X_te,Y_te)"
   ]
  },
  {
   "cell_type": "markdown",
   "metadata": {},
   "source": [
    "## Get test set predictions"
   ]
  },
  {
   "cell_type": "code",
   "execution_count": 21,
   "metadata": {},
   "outputs": [
    {
     "data": {
      "text/plain": "['clf3_boolq.joblib']"
     },
     "execution_count": 21,
     "metadata": {},
     "output_type": "execute_result"
    }
   ],
   "source": [
    "dump(clf1, \"clf1_boolq.joblib\")\r\n",
    "dump(clf2, \"clf2_boolq.joblib\")\r\n",
    "dump(clf3, \"clf3_boolq.joblib\")\r\n",
    "# clf1 = load(\"clf1_boolq.joblib\")\r\n",
    "# clf2 = load(\"clf2_boolq.joblib\")\r\n",
    "# clf3 = load(\"clf3_boolq.joblib\")\r\n"
   ]
  },
  {
   "cell_type": "code",
   "execution_count": 22,
   "metadata": {},
   "outputs": [],
   "source": [
    "dft = pd.read_json('../data/BoolQ/test.jsonl', lines=True)"
   ]
  },
  {
   "cell_type": "code",
   "execution_count": 25,
   "metadata": {},
   "outputs": [],
   "source": [
    "tuple_list = list(zip(dft[\"passage\"].to_list(), dft[\"question\"].to_list()))\r\n",
    "encodings = tokenizer.batch_encode_plus(tuple_list, max_length=64, pad_to_max_length=True)"
   ]
  },
  {
   "cell_type": "code",
   "execution_count": 26,
   "metadata": {},
   "outputs": [
    {
     "name": "stdout",
     "output_type": "stream",
     "text": [
      "3015\n",
      "3030\n",
      "3045\n",
      "3060\n",
      "3075\n",
      "3090\n",
      "3105\n",
      "3120\n",
      "3135\n",
      "3150\n",
      "3165\n",
      "3180\n",
      "3195\n",
      "3210\n",
      "3225\n",
      "3240\n",
      "3255\n"
     ]
    }
   ],
   "source": [
    "embarraytest = np.zeros((len(dft), len(encodings[\"input_ids\"][0]), 768), dtype=np.float32)\r\n",
    "embarraytest = get_model_features(dft, 15, encodings, model, embarraytest)"
   ]
  },
  {
   "cell_type": "code",
   "execution_count": 27,
   "metadata": {},
   "outputs": [],
   "source": [
    "np.save(\"boolq-bert-embs-test.npy\",embarraytest)"
   ]
  },
  {
   "cell_type": "code",
   "execution_count": 28,
   "metadata": {},
   "outputs": [],
   "source": [
    "words = getWords(embarraytest)"
   ]
  },
  {
   "cell_type": "code",
   "execution_count": 29,
   "metadata": {},
   "outputs": [],
   "source": [
    "# BASELINE\r\n",
    "baseline_sentence_rep = embarraytest.reshape((-1,768*64))\r\n",
    "# GLOBAL METHOD\r\n",
    "global_representations = global_method(np.asarray(words), n_pc_global, emb_len)\r\n",
    "global_sentence_rep = flatten_pooling(global_representations, embarraytest)\r\n",
    "# LOCAL METHOD\r\n",
    "isotropic_representations = cluster_based(np.asarray(words), n_cluster, n_pc, emb_len)\r\n",
    "# calculating sentence representations based on mean word (isotropised) representations\r\n",
    "sentence_rep = flatten_pooling(isotropic_representations, embarraytest)"
   ]
  },
  {
   "cell_type": "code",
   "execution_count": 30,
   "metadata": {},
   "outputs": [],
   "source": [
    "preds_baseline = clf1.predict(baseline_sentence_rep)\r\n",
    "preds_global = clf2.predict(global_sentence_rep)\r\n",
    "preds_local = clf3.predict(sentence_rep)"
   ]
  },
  {
   "cell_type": "code",
   "execution_count": 33,
   "metadata": {},
   "outputs": [],
   "source": [
    "dft[\"label\"] = preds_local\r\n",
    "dft[\"label\"] = dft[\"label\"].replace([False,True],[\"false\",\"true\"])\r\n",
    "dft[[\"idx\",\"label\"]].to_json(\"BoolQ_local.jsonl\", lines=True, orient=\"records\")\r\n",
    "dft[\"label\"] = preds_global\r\n",
    "dft[\"label\"] = dft[\"label\"].replace([False,True],[\"false\",\"true\"])\r\n",
    "dft[[\"idx\",\"label\"]].to_json(\"BoolQ_global.jsonl\", lines=True, orient=\"records\")\r\n",
    "dft[\"label\"] = preds_baseline\r\n",
    "dft[\"label\"] = dft[\"label\"].replace([False,True],[\"false\",\"true\"])\r\n",
    "dft[[\"idx\",\"label\"]].to_json(\"BoolQ_baseline.jsonl\", lines=True, orient=\"records\")"
   ]
  }
 ],
 "metadata": {
  "kernelspec": {
   "display_name": "Python 3.8.11 64-bit ('repro': conda)",
   "name": "python3811jvsc74a57bd0556d0f6bb3e19b5350a50c9b037347830b2ef0c6b7dbb2b89c6068584bda62c6"
  },
  "language_info": {
   "codemirror_mode": {
    "name": "ipython",
    "version": 3
   },
   "file_extension": ".py",
   "mimetype": "text/x-python",
   "name": "python",
   "nbconvert_exporter": "python",
   "pygments_lexer": "ipython3",
   "version": "3.8.11"
  },
  "orig_nbformat": 2
 },
 "nbformat": 4,
 "nbformat_minor": 2
}