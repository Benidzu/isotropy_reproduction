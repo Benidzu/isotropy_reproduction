{
 "cells": [
  {
   "cell_type": "code",
   "execution_count": 1,
   "metadata": {},
   "outputs": [],
   "source": [
    "from IPython.display import clear_output\r\n",
    "from functions import *\r\n",
    "import numpy as np\r\n",
    "import pandas as pd\r\n",
    "from transformers import *\r\n",
    "from transformers.tokenization_utils import TextInputPair\r\n",
    "from sklearn.neural_network import MLPClassifier\r\n",
    "import tensorflow as tf\r\n",
    "import pickle\r\n",
    "import scipy as sc\r\n",
    "import math as mt\r\n",
    "from joblib import dump, load\r\n",
    "from datasets import load_dataset"
   ]
  },
  {
   "cell_type": "markdown",
   "metadata": {},
   "source": [
    "### Load BERT & Data"
   ]
  },
  {
   "cell_type": "code",
   "execution_count": 2,
   "metadata": {},
   "outputs": [],
   "source": [
    "# BERT\r\n",
    "casing = \"bert-base-uncased\" \r\n",
    "tokenizer = BertTokenizer.from_pretrained(casing, do_lower_case=True, add_special_tokens=True)\r\n",
    "\r\n",
    "config = BertConfig(dropout=0.2, attention_dropout=0.2 ) #hidden_dropout_prob=0.2, attention_probs_dropout_prob=0.2\r\n",
    "config.output_hidden_states = False # if true outputs all layers\r\n",
    "\r\n",
    "model = TFBertModel.from_pretrained(casing, config = config)\r\n",
    "model.trainable = False\r\n",
    "emb_len = 768\r\n",
    "clear_output()\r\n",
    "\r\n",
    "# BERT\r\n",
    "n_cluster = 27 # Number of clusters to use\r\n",
    "n_pc = 12 # Number of main principal components to drop for local method\r\n",
    "n_pc_global = 15 # Number of main principal components to drop for global method"
   ]
  },
  {
   "cell_type": "code",
   "execution_count": 3,
   "metadata": {},
   "outputs": [
    {
     "name": "stderr",
     "output_type": "stream",
     "text": [
      "Reusing dataset glue (C:\\Users\\Beni\\.cache\\huggingface\\datasets\\glue\\sst2\\1.0.0\\dacbe3125aa31d7f70367a07a8a9e72a5a0bfeb5fc42e75c9db75b96da6053ad)\n",
      "100%|██████████| 3/3 [00:00<00:00, 49.99it/s]\n"
     ]
    }
   ],
   "source": [
    "ds = load_dataset('glue', 'sst2')\r\n",
    "df_tr = ds[\"train\"].to_pandas().sample(n=7000,random_state=123)\r\n",
    "df = pd.concat([df_tr, ds[\"validation\"].to_pandas(), ds[\"test\"].to_pandas()])"
   ]
  },
  {
   "cell_type": "code",
   "execution_count": 4,
   "metadata": {},
   "outputs": [],
   "source": [
    "train_stop_ix = len(df_tr)\r\n",
    "dev_stop_ix = len(df_tr) + ds[\"validation\"].num_rows"
   ]
  },
  {
   "cell_type": "markdown",
   "metadata": {},
   "source": [
    "### Encode (tokenize) all pairs of sentences"
   ]
  },
  {
   "cell_type": "code",
   "execution_count": 5,
   "metadata": {},
   "outputs": [],
   "source": [
    "tuple_list = df[\"sentence\"].to_list()\r\n",
    "encodings = tokenizer.batch_encode_plus(tuple_list, max_length=64, pad_to_max_length=True)"
   ]
  },
  {
   "cell_type": "code",
   "execution_count": null,
   "metadata": {},
   "outputs": [],
   "source": [
    "embarray = np.load(\"sst2-bert-embs.npy\")"
   ]
  },
  {
   "cell_type": "markdown",
   "metadata": {},
   "source": [
    "Run commented cells below if no saved embeddings"
   ]
  },
  {
   "cell_type": "code",
   "execution_count": 7,
   "metadata": {},
   "outputs": [],
   "source": [
    "# embarray = np.zeros((len(df), len(encodings[\"input_ids\"][0]), 768), dtype=np.float32)\r\n",
    "# embarray = get_model_features(df, 15, encodings, model, embarray)"
   ]
  },
  {
   "cell_type": "code",
   "execution_count": 18,
   "metadata": {},
   "outputs": [],
   "source": [
    "# np.save(\"sst2-bert-embs.npy\",embarray)"
   ]
  },
  {
   "cell_type": "markdown",
   "metadata": {},
   "source": [
    "## Get baseline, local & global representations"
   ]
  },
  {
   "cell_type": "code",
   "execution_count": 8,
   "metadata": {},
   "outputs": [],
   "source": [
    "words = getWords(embarray)"
   ]
  },
  {
   "cell_type": "code",
   "execution_count": 9,
   "metadata": {},
   "outputs": [],
   "source": [
    "# BASELINE\r\n",
    "baseline_sentence_rep = embarray.reshape((-1,768*64))"
   ]
  },
  {
   "cell_type": "code",
   "execution_count": 10,
   "metadata": {},
   "outputs": [],
   "source": [
    "# GLOBAL METHOD - run commented lines if not available\r\n",
    "global_sentence_rep = np.load(\"global_sent_sst2.npy\")\r\n",
    "# global_representations = global_method(np.asarray(words), n_pc_global, emb_len)\r\n",
    "# global_sentence_rep = flatten_pooling(global_representations, embarray)\r\n",
    "# np.save(\"global_sent_sst2.npy\",global_sentence_rep)"
   ]
  },
  {
   "cell_type": "code",
   "execution_count": 40,
   "metadata": {},
   "outputs": [],
   "source": [
    "# LOCAL METHOD\r\n",
    "isotropic_representations = cluster_based(np.asarray(words), n_cluster, n_pc, emb_len)\r\n",
    "sentence_rep = flatten_pooling(isotropic_representations, embarray)"
   ]
  },
  {
   "cell_type": "markdown",
   "metadata": {},
   "source": [
    "## Train & Test"
   ]
  },
  {
   "cell_type": "code",
   "execution_count": 41,
   "metadata": {},
   "outputs": [],
   "source": [
    "# Simple train/test split - only for quick testing purposes. Reported scores are based on GLUE/SuperGLUE official test submissions.\r\n",
    "Y = np.asarray((df[\"label\"]).to_list())\r\n",
    "Y_tr = Y[:train_stop_ix]\r\n",
    "Y_dev = Y[train_stop_ix:dev_stop_ix]\r\n",
    "Y_te = Y[dev_stop_ix:]"
   ]
  },
  {
   "cell_type": "markdown",
   "metadata": {},
   "source": [
    "### Baseline"
   ]
  },
  {
   "cell_type": "code",
   "execution_count": 50,
   "metadata": {},
   "outputs": [],
   "source": [
    "reps_base = np.asarray(baseline_sentence_rep)\r\n",
    "X_tr = reps_base[:train_stop_ix]\r\n",
    "X_dev = reps_base[train_stop_ix:dev_stop_ix]\r\n",
    "X_te = reps_base[dev_stop_ix:]"
   ]
  },
  {
   "cell_type": "code",
   "execution_count": 51,
   "metadata": {},
   "outputs": [
    {
     "name": "stdout",
     "output_type": "stream",
     "text": [
      "epoch 1, score: 0.7901376146788991\n",
      "epoch 2, score: 0.8325688073394495\n",
      "epoch 3, score: 0.8256880733944955\n",
      "epoch 4, score: 0.8532110091743119\n",
      "epoch 5, score: 0.841743119266055\n",
      "epoch 6, score: 0.8405963302752294\n",
      "epoch 7, score: 0.823394495412844\n",
      "epoch 8, score: 0.8394495412844036\n",
      "epoch 9, score: 0.8256880733944955\n",
      "epoch 10, score: 0.8268348623853211\n"
     ]
    }
   ],
   "source": [
    "clf1, score1 = get_best_classifier(10,X_tr,Y_tr,X_dev,Y_dev)"
   ]
  },
  {
   "cell_type": "markdown",
   "metadata": {},
   "source": [
    "### Global"
   ]
  },
  {
   "cell_type": "code",
   "execution_count": 44,
   "metadata": {},
   "outputs": [],
   "source": [
    "reps_global = np.asarray(global_sentence_rep)\r\n",
    "X_tr = reps_global[:train_stop_ix]\r\n",
    "X_dev = reps_global[train_stop_ix:dev_stop_ix]\r\n",
    "X_te = reps_global[dev_stop_ix:]"
   ]
  },
  {
   "cell_type": "code",
   "execution_count": 45,
   "metadata": {},
   "outputs": [
    {
     "name": "stdout",
     "output_type": "stream",
     "text": [
      "epoch 1, score: 0.7775229357798165\n",
      "epoch 2, score: 0.8130733944954128\n",
      "epoch 3, score: 0.8107798165137615\n",
      "epoch 4, score: 0.8130733944954128\n",
      "epoch 5, score: 0.8061926605504587\n",
      "epoch 6, score: 0.801605504587156\n",
      "epoch 7, score: 0.8096330275229358\n",
      "epoch 8, score: 0.8061926605504587\n",
      "epoch 9, score: 0.8061926605504587\n",
      "epoch 10, score: 0.8119266055045872\n"
     ]
    }
   ],
   "source": [
    "clf2, score2 = get_best_classifier(10,X_tr,Y_tr,X_dev,Y_dev)"
   ]
  },
  {
   "cell_type": "markdown",
   "metadata": {},
   "source": [
    "### Local"
   ]
  },
  {
   "cell_type": "code",
   "execution_count": 46,
   "metadata": {},
   "outputs": [],
   "source": [
    "reps_local = np.asarray(sentence_rep)\r\n",
    "X_tr = reps_local[:train_stop_ix]\r\n",
    "X_dev = reps_local[train_stop_ix:dev_stop_ix]\r\n",
    "X_te = reps_local[dev_stop_ix:]"
   ]
  },
  {
   "cell_type": "code",
   "execution_count": 47,
   "metadata": {},
   "outputs": [
    {
     "name": "stdout",
     "output_type": "stream",
     "text": [
      "epoch 1, score: 0.7786697247706422\n",
      "epoch 2, score: 0.801605504587156\n",
      "epoch 3, score: 0.8027522935779816\n",
      "epoch 4, score: 0.7958715596330275\n",
      "epoch 5, score: 0.7970183486238532\n",
      "epoch 6, score: 0.7970183486238532\n",
      "epoch 7, score: 0.7970183486238532\n",
      "epoch 8, score: 0.7993119266055045\n",
      "epoch 9, score: 0.7993119266055045\n",
      "epoch 10, score: 0.7981651376146789\n"
     ]
    }
   ],
   "source": [
    "clf3, score3 = get_best_classifier(10,X_tr,Y_tr,X_dev,Y_dev)"
   ]
  },
  {
   "cell_type": "markdown",
   "metadata": {},
   "source": [
    "## Get test set predictions"
   ]
  },
  {
   "cell_type": "code",
   "execution_count": 35,
   "metadata": {},
   "outputs": [
    {
     "data": {
      "text/plain": "['clf3_sst2.joblib']"
     },
     "execution_count": 35,
     "metadata": {},
     "output_type": "execute_result"
    }
   ],
   "source": [
    "dump(clf1, \"clf1_sst2.joblib\")\r\n",
    "dump(clf2, \"clf2_sst2.joblib\")\r\n",
    "dump(clf3, \"clf3_sst2.joblib\")\r\n",
    "# clf1 = load(\"clf1_sst2.joblib\")\r\n",
    "# clf2 = load(\"clf2_sst2.joblib\")\r\n",
    "# clf3 = load(\"clf3_sst2.joblib\")"
   ]
  },
  {
   "cell_type": "code",
   "execution_count": 21,
   "metadata": {},
   "outputs": [],
   "source": [
    "dft = ds[\"test\"].to_pandas()"
   ]
  },
  {
   "cell_type": "code",
   "execution_count": 52,
   "metadata": {},
   "outputs": [],
   "source": [
    "preds_baseline = clf1.predict(baseline_sentence_rep[dev_stop_ix:])\r\n",
    "preds_global = clf2.predict(global_sentence_rep[dev_stop_ix:])\r\n",
    "preds_local = clf3.predict(sentence_rep[dev_stop_ix:])"
   ]
  },
  {
   "cell_type": "code",
   "execution_count": 53,
   "metadata": {},
   "outputs": [],
   "source": [
    "dft[\"index\"] = dft[\"idx\"]\r\n",
    "dft[\"prediction\"] = preds_local\r\n",
    "dft[[\"index\",\"prediction\"]].to_csv(\"../results/SST2_local4.tsv\", index=False, sep=\"\\t\")\r\n",
    "dft[\"prediction\"] = preds_global\r\n",
    "dft[[\"index\",\"prediction\"]].to_csv(\"../results/SST2_global4.tsv\", index=False, sep=\"\\t\")\r\n",
    "dft[\"prediction\"] = preds_baseline\r\n",
    "dft[[\"index\",\"prediction\"]].to_csv(\"../results/SST2_baseline1.tsv\", index=False, sep=\"\\t\")"
   ]
  }
 ],
 "metadata": {
  "kernelspec": {
   "display_name": "Python 3.8.11 64-bit",
   "name": "python3811jvsc74a57bd0556d0f6bb3e19b5350a50c9b037347830b2ef0c6b7dbb2b89c6068584bda62c6"
  },
  "language_info": {
   "name": "python",
   "version": ""
  },
  "orig_nbformat": 2
 },
 "nbformat": 4,
 "nbformat_minor": 2
}