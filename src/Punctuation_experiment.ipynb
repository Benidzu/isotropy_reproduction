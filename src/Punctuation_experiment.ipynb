{
 "cells": [
  {
   "cell_type": "code",
   "execution_count": 43,
   "metadata": {},
   "outputs": [],
   "source": [
    "from IPython.display import clear_output\r\n",
    "from functions import *\r\n",
    "import numpy as np\r\n",
    "import pandas as pd\r\n",
    "from transformers import *\r\n",
    "from transformers.tokenization_utils import TextInputPair\r\n",
    "from sklearn.neural_network import MLPClassifier\r\n",
    "import tensorflow as tf\r\n",
    "import pickle\r\n",
    "import scipy as sc\r\n",
    "import math as mt\r\n",
    "from joblib import dump, load\r\n",
    "import random\r\n",
    "from sklearn.neighbors import KNeighborsTransformer"
   ]
  },
  {
   "cell_type": "code",
   "execution_count": 2,
   "metadata": {},
   "outputs": [],
   "source": [
    "# BERT\r\n",
    "casing = \"bert-base-uncased\" \r\n",
    "tokenizer = BertTokenizer.from_pretrained(casing, do_lower_case=True, add_special_tokens=True)\r\n",
    "\r\n",
    "config = BertConfig(dropout=0.2, attention_dropout=0.2 ) #hidden_dropout_prob=0.2, attention_probs_dropout_prob=0.2\r\n",
    "config.output_hidden_states = False # if true outputs all layers\r\n",
    "\r\n",
    "model = TFBertModel.from_pretrained(casing, config = config)\r\n",
    "model.trainable = False\r\n",
    "emb_len = 768\r\n",
    "clear_output()\r\n",
    "\r\n",
    "# BERT\r\n",
    "n_cluster = 27 # Number of clusters to use\r\n",
    "n_pc = 12 # Number of main principal components to drop for local method\r\n",
    "n_pc_global = 15 # Number of main principal components to drop for global method"
   ]
  },
  {
   "cell_type": "code",
   "execution_count": 104,
   "metadata": {},
   "outputs": [],
   "source": [
    "# GPT-2\r\n",
    "casing = \"gpt2\" \r\n",
    "tokenizer = GPT2Tokenizer.from_pretrained(casing, do_lower_case=True, add_special_tokens=True)\r\n",
    "config = GPT2Config()\r\n",
    "config.output_hidden_states = True\r\n",
    "\r\n",
    "model = TFGPT2Model.from_pretrained(casing, config=config)\r\n",
    "model.trainable = False\r\n",
    "\r\n",
    "emb_len = 768\r\n",
    "clear_output()\r\n",
    "\r\n",
    "# GPT2\r\n",
    "n_cluster = 10\r\n",
    "n_pc = 30\r\n",
    "n_pc_global = 30"
   ]
  },
  {
   "cell_type": "code",
   "execution_count": 146,
   "metadata": {},
   "outputs": [],
   "source": [
    "# RoBERTa\r\n",
    "casing = \"roberta-base\"\r\n",
    "tokenizer = RobertaTokenizer.from_pretrained(casing, do_lower_case=True, add_special_tokens=True)\r\n",
    "config = RobertaConfig.from_pretrained(casing)\r\n",
    "config.output_hidden_states = True\r\n",
    "\r\n",
    "model = TFRobertaModel.from_pretrained(casing, config=config)\r\n",
    "model.trainable = False\r\n",
    "emb_len = 768\r\n",
    "clear_output()\r\n",
    "\r\n",
    "# RoBERTa\r\n",
    "n_cluster = 27\r\n",
    "n_pc = 12\r\n",
    "n_pc_global = 25"
   ]
  },
  {
   "cell_type": "code",
   "execution_count": 147,
   "metadata": {},
   "outputs": [],
   "source": [
    "with open('data.150k.pickle', 'rb') as f:\r\n",
    "    x = pickle.load(f)"
   ]
  },
  {
   "cell_type": "code",
   "execution_count": 47,
   "metadata": {},
   "outputs": [],
   "source": [
    "random.seed(1)\r\n",
    "data_ = random.sample(x,200)"
   ]
  },
  {
   "cell_type": "code",
   "execution_count": 4,
   "metadata": {},
   "outputs": [],
   "source": [
    "data_ = x[:200]"
   ]
  },
  {
   "cell_type": "code",
   "execution_count": 148,
   "metadata": {},
   "outputs": [],
   "source": [
    "ids = []\r\n",
    "for group in data_:\r\n",
    "    gids = []\r\n",
    "    for i in range(6):\r\n",
    "        gids.append(tokenizer.build_inputs_with_special_tokens(tokenizer.convert_tokens_to_ids(group[i])))\r\n",
    "    ids.append(gids)"
   ]
  },
  {
   "cell_type": "code",
   "execution_count": 150,
   "metadata": {},
   "outputs": [],
   "source": [
    "reps = []\r\n",
    "for i in range(200):\r\n",
    "    groupoutput = model(np.asarray(ids[i], dtype=\"int32\"))[0]\r\n",
    "    if casing == \"gpt2\":\r\n",
    "        reps.append(np.asarray(groupoutput))\r\n",
    "    else:\r\n",
    "        reps.append(np.asarray(groupoutput)[:,1:groupoutput.shape[1]-1,:])"
   ]
  },
  {
   "cell_type": "code",
   "execution_count": 120,
   "metadata": {},
   "outputs": [
    {
     "data": {
      "text/plain": "(6, 15, 768)"
     },
     "execution_count": 120,
     "metadata": {},
     "output_type": "execute_result"
    }
   ],
   "source": [
    "reps[0].shape"
   ]
  },
  {
   "cell_type": "code",
   "execution_count": 114,
   "metadata": {},
   "outputs": [
    {
     "data": {
      "text/plain": "15"
     },
     "execution_count": 114,
     "metadata": {},
     "output_type": "execute_result"
    }
   ],
   "source": [
    "len(data_[0][0])"
   ]
  },
  {
   "cell_type": "code",
   "execution_count": 192,
   "metadata": {},
   "outputs": [],
   "source": [
    "# Get all comma CWR indices, and all CWRs\r\n",
    "token = \",\" # \".\" , \"the\" , \"of\"\r\n",
    "tokenpositions = [] # list of tuple (group,sent,index,fullidx)\r\n",
    "finalreps = []\r\n",
    "tokenreps = []\r\n",
    "cnt = 0\r\n",
    "kix = 0\r\n",
    "for i in range(200):\r\n",
    "    for j in range(6):\r\n",
    "        first_added = False\r\n",
    "        for l in range(len(data_[i][j])):\r\n",
    "            finalreps.append(reps[i][j][l])\r\n",
    "            if data_[i][j][l] == token and not first_added:\r\n",
    "                tokenreps.append(reps[i][j][l])\r\n",
    "                tokenpositions.append( (i,j,l,cnt,kix) )\r\n",
    "                first_added = True\r\n",
    "                kix +=1\r\n",
    "            cnt+=1"
   ]
  },
  {
   "cell_type": "code",
   "execution_count": 193,
   "metadata": {},
   "outputs": [
    {
     "data": {
      "text/plain": "<666x666 sparse matrix of type '<class 'numpy.float32'>'\n\twith 4662 stored elements in Compressed Sparse Row format>"
     },
     "execution_count": 193,
     "metadata": {},
     "output_type": "execute_result"
    }
   ],
   "source": [
    "knn = KNeighborsTransformer(n_neighbors=6)\r\n",
    "knn.fit_transform(tokenreps)"
   ]
  },
  {
   "cell_type": "code",
   "execution_count": 194,
   "metadata": {},
   "outputs": [],
   "source": [
    "fullixs = set([pos[4] for pos in tokenpositions])\r\n",
    "trueneighbors = []\r\n",
    "for pos in tokenpositions:\r\n",
    "    group,sent,index,fullidx,tokenidx = pos\r\n",
    "    scores, neighs = knn.kneighbors([tokenreps[tokenidx]], 6)\r\n",
    "    truegroupixs = set(map(lambda y: y[4], filter(lambda x: x[0] == group,tokenpositions)))\r\n",
    "    trueneighbors.append(len(set(neighs[0]).intersection(truegroupixs))/6)"
   ]
  },
  {
   "cell_type": "code",
   "execution_count": 195,
   "metadata": {},
   "outputs": [
    {
     "data": {
      "text/plain": "0.6869369369369369"
     },
     "execution_count": 195,
     "metadata": {},
     "output_type": "execute_result"
    }
   ],
   "source": [
    "np.mean(trueneighbors)"
   ]
  },
  {
   "cell_type": "code",
   "execution_count": 196,
   "metadata": {},
   "outputs": [],
   "source": [
    "# Repeat with method..\r\n",
    "\r\n",
    "iso_tokenreps = cluster_based(np.array(tokenreps),1,n_pc,emb_len)"
   ]
  },
  {
   "cell_type": "code",
   "execution_count": 197,
   "metadata": {},
   "outputs": [
    {
     "data": {
      "text/plain": "<666x666 sparse matrix of type '<class 'numpy.float64'>'\n\twith 4662 stored elements in Compressed Sparse Row format>"
     },
     "execution_count": 197,
     "metadata": {},
     "output_type": "execute_result"
    }
   ],
   "source": [
    "knn = KNeighborsTransformer(n_neighbors=6)\r\n",
    "knn.fit_transform(iso_tokenreps)"
   ]
  },
  {
   "cell_type": "code",
   "execution_count": 198,
   "metadata": {},
   "outputs": [],
   "source": [
    "fullixs = set([pos[4] for pos in tokenpositions])\r\n",
    "trueneighbors = []\r\n",
    "for pos in tokenpositions:\r\n",
    "    group,sent,index,fullidx,tokenidx = pos\r\n",
    "    scores, neighs = knn.kneighbors([iso_tokenreps[tokenidx]], 6)\r\n",
    "    truegroupixs = set(map(lambda y: y[4], filter(lambda x: x[0] == group,tokenpositions)))\r\n",
    "    trueneighbors.append(len(set(neighs[0]).intersection(truegroupixs))/6)"
   ]
  },
  {
   "cell_type": "code",
   "execution_count": 199,
   "metadata": {},
   "outputs": [
    {
     "data": {
      "text/plain": "0.7064564564564565"
     },
     "execution_count": 199,
     "metadata": {},
     "output_type": "execute_result"
    }
   ],
   "source": [
    "np.mean(trueneighbors)"
   ]
  }
 ],
 "metadata": {
  "kernelspec": {
   "display_name": "Python 3.8.11 64-bit",
   "name": "python3811jvsc74a57bd0556d0f6bb3e19b5350a50c9b037347830b2ef0c6b7dbb2b89c6068584bda62c6"
  },
  "language_info": {
   "codemirror_mode": {
    "name": "ipython",
    "version": 3
   },
   "file_extension": ".py",
   "mimetype": "text/x-python",
   "name": "python",
   "nbconvert_exporter": "python",
   "pygments_lexer": "ipython3",
   "version": "3.8.11"
  },
  "orig_nbformat": 2
 },
 "nbformat": 4,
 "nbformat_minor": 2
}