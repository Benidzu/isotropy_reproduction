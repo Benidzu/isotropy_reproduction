{
 "cells": [
  {
   "cell_type": "code",
   "execution_count": 47,
   "metadata": {},
   "outputs": [],
   "source": [
    "from IPython.display import clear_output\r\n",
    "from functions import *\r\n",
    "import numpy as np\r\n",
    "import pandas as pd\r\n",
    "from transformers import *\r\n",
    "from transformers.tokenization_utils import TextInputPair\r\n",
    "from sklearn.neural_network import MLPClassifier\r\n",
    "from copy import deepcopy\r\n",
    "import tensorflow as tf\r\n",
    "import pickle\r\n",
    "import scipy as sc\r\n",
    "import math as mt\r\n",
    "from joblib import dump, load\r\n",
    "from datasets import load_dataset"
   ]
  },
  {
   "cell_type": "markdown",
   "metadata": {},
   "source": [
    "### Load BERT & Data"
   ]
  },
  {
   "cell_type": "code",
   "execution_count": 2,
   "metadata": {},
   "outputs": [],
   "source": [
    "# BERT\r\n",
    "casing = \"bert-base-uncased\" \r\n",
    "tokenizer = BertTokenizer.from_pretrained(casing, do_lower_case=True, add_special_tokens=True)\r\n",
    "\r\n",
    "config = BertConfig(dropout=0.2, attention_dropout=0.2 ) #hidden_dropout_prob=0.2, attention_probs_dropout_prob=0.2\r\n",
    "config.output_hidden_states = False # if true outputs all layers\r\n",
    "\r\n",
    "model = TFBertModel.from_pretrained(casing, config = config)\r\n",
    "model.trainable = False\r\n",
    "emb_len = 768\r\n",
    "clear_output()\r\n",
    "\r\n",
    "# BERT\r\n",
    "n_cluster = 27 # Number of clusters to use\r\n",
    "n_pc = 12 # Number of main principal components to drop for local method\r\n",
    "n_pc_global = 15 # Number of main principal components to drop for global method"
   ]
  },
  {
   "cell_type": "code",
   "execution_count": 32,
   "metadata": {},
   "outputs": [],
   "source": [
    "train_stop_ix = ds[\"train\"].num_rows\r\n",
    "dev_stop_ix = ds[\"train\"].num_rows + ds[\"validation\"].num_rows"
   ]
  },
  {
   "cell_type": "code",
   "execution_count": 33,
   "metadata": {},
   "outputs": [
    {
     "name": "stderr",
     "output_type": "stream",
     "text": [
      "Reusing dataset glue (C:\\Users\\Beni\\.cache\\huggingface\\datasets\\glue\\mrpc\\1.0.0\\dacbe3125aa31d7f70367a07a8a9e72a5a0bfeb5fc42e75c9db75b96da6053ad)\n",
      "100%|██████████| 3/3 [00:00<00:00, 120.00it/s]\n"
     ]
    }
   ],
   "source": [
    "## Read data, append sentences..\r\n",
    "ds = load_dataset('glue', 'mrpc')\r\n",
    "df = pd.concat([ds[\"train\"].to_pandas(), ds[\"validation\"].to_pandas(), ds[\"test\"].to_pandas()])"
   ]
  },
  {
   "cell_type": "markdown",
   "metadata": {},
   "source": [
    "### Encode (tokenize) all pairs of sentences"
   ]
  },
  {
   "cell_type": "code",
   "execution_count": 36,
   "metadata": {},
   "outputs": [],
   "source": [
    "tuple_list = list(zip(df[\"sentence1\"].to_list(), df[\"sentence2\"].to_list()))\r\n",
    "encodings = tokenizer.batch_encode_plus(tuple_list, max_length=64, pad_to_max_length=True)"
   ]
  },
  {
   "cell_type": "code",
   "execution_count": 37,
   "metadata": {},
   "outputs": [],
   "source": [
    "# embarray = np.zeros((len(df), len(encodings[\"input_ids\"][0]), 768), dtype=np.float32)\r\n",
    "embarray = np.load(\"mrpc-bert-embs.npy\")"
   ]
  },
  {
   "cell_type": "code",
   "execution_count": null,
   "metadata": {},
   "outputs": [],
   "source": [
    "# embarray = get_model_features(df, 15, encodings, model, embarray)"
   ]
  },
  {
   "cell_type": "code",
   "execution_count": 40,
   "metadata": {},
   "outputs": [],
   "source": [
    "# np.save(\"mrpc-bert-embs.npy\",embarray)"
   ]
  },
  {
   "cell_type": "markdown",
   "metadata": {},
   "source": [
    "## Get baseline, local & global representations"
   ]
  },
  {
   "cell_type": "code",
   "execution_count": 41,
   "metadata": {},
   "outputs": [],
   "source": [
    "words = getWords(embarray)"
   ]
  },
  {
   "cell_type": "code",
   "execution_count": 42,
   "metadata": {},
   "outputs": [],
   "source": [
    "# BASELINE\r\n",
    "baseline_sentence_rep = embarray.reshape((-1,768*64))"
   ]
  },
  {
   "cell_type": "code",
   "execution_count": 43,
   "metadata": {},
   "outputs": [],
   "source": [
    "# GLOBAL METHOD\r\n",
    "global_representations = global_method(np.asarray(words), n_pc_global, emb_len)\r\n",
    "global_sentence_rep = flatten_pooling(global_representations, embarray)"
   ]
  },
  {
   "cell_type": "code",
   "execution_count": 71,
   "metadata": {},
   "outputs": [],
   "source": [
    "# LOCAL METHOD\r\n",
    "isotropic_representations = cluster_based(np.asarray(words), n_cluster, n_pc, emb_len)\r\n",
    "sentence_rep = flatten_pooling(isotropic_representations, embarray)"
   ]
  },
  {
   "cell_type": "markdown",
   "metadata": {},
   "source": [
    "## Train & Test"
   ]
  },
  {
   "cell_type": "code",
   "execution_count": 45,
   "metadata": {},
   "outputs": [],
   "source": [
    "# Simple train/test split - all MRPC splits (including labelled test split) are available\r\n",
    "Y = np.asarray((df[\"label\"]).to_list())\r\n",
    "Y_tr = Y[:train_stop_ix]\r\n",
    "Y_dev = Y[train_stop_ix:dev_stop_ix]\r\n",
    "Y_te = Y[dev_stop_ix:]"
   ]
  },
  {
   "cell_type": "markdown",
   "metadata": {},
   "source": [
    "### Baseline"
   ]
  },
  {
   "cell_type": "code",
   "execution_count": 49,
   "metadata": {},
   "outputs": [],
   "source": [
    "reps_base = np.asarray(baseline_sentence_rep)\r\n",
    "X_tr = reps_base[:train_stop_ix]\r\n",
    "X_dev = reps_base[train_stop_ix:dev_stop_ix]\r\n",
    "X_te = reps_base[dev_stop_ix:]"
   ]
  },
  {
   "cell_type": "code",
   "execution_count": 58,
   "metadata": {},
   "outputs": [
    {
     "name": "stdout",
     "output_type": "stream",
     "text": [
      "epoch 1, score: 0.7009803921568627\n",
      "epoch 2, score: 0.7377450980392157\n",
      "epoch 3, score: 0.7205882352941176\n",
      "epoch 4, score: 0.7524509803921569\n",
      "epoch 5, score: 0.7524509803921569\n",
      "epoch 6, score: 0.7524509803921569\n",
      "epoch 7, score: 0.7475490196078431\n",
      "epoch 8, score: 0.7573529411764706\n",
      "epoch 9, score: 0.7524509803921569\n",
      "epoch 10, score: 0.7401960784313726\n"
     ]
    }
   ],
   "source": [
    "clf1, score1 = get_best_classifier(10,X_tr,Y_tr,X_dev,Y_dev)"
   ]
  },
  {
   "cell_type": "code",
   "execution_count": 59,
   "metadata": {},
   "outputs": [
    {
     "data": {
      "text/plain": "0.6968115942028985"
     },
     "execution_count": 59,
     "metadata": {},
     "output_type": "execute_result"
    }
   ],
   "source": [
    "clf1.score(X_te,Y_te)"
   ]
  },
  {
   "cell_type": "markdown",
   "metadata": {},
   "source": [
    "### Global"
   ]
  },
  {
   "cell_type": "code",
   "execution_count": 60,
   "metadata": {},
   "outputs": [],
   "source": [
    "reps_global = np.asarray(global_sentence_rep)\r\n",
    "X_tr = reps_global[:train_stop_ix]\r\n",
    "X_dev = reps_global[train_stop_ix:dev_stop_ix]\r\n",
    "X_te = reps_global[dev_stop_ix:]"
   ]
  },
  {
   "cell_type": "code",
   "execution_count": 61,
   "metadata": {},
   "outputs": [
    {
     "name": "stdout",
     "output_type": "stream",
     "text": [
      "epoch 1, score: 0.7132352941176471\n",
      "epoch 2, score: 0.7254901960784313\n",
      "epoch 3, score: 0.7254901960784313\n",
      "epoch 4, score: 0.7132352941176471\n",
      "epoch 5, score: 0.7083333333333334\n",
      "epoch 6, score: 0.7156862745098039\n",
      "epoch 7, score: 0.7132352941176471\n",
      "epoch 8, score: 0.7156862745098039\n",
      "epoch 9, score: 0.7156862745098039\n",
      "epoch 10, score: 0.7181372549019608\n"
     ]
    }
   ],
   "source": [
    "clf2, score2 = get_best_classifier(10,X_tr,Y_tr,X_dev,Y_dev)"
   ]
  },
  {
   "cell_type": "code",
   "execution_count": 62,
   "metadata": {},
   "outputs": [
    {
     "data": {
      "text/plain": "0.7020289855072464"
     },
     "execution_count": 62,
     "metadata": {},
     "output_type": "execute_result"
    }
   ],
   "source": [
    "clf2.score(X_te,Y_te)"
   ]
  },
  {
   "cell_type": "markdown",
   "metadata": {},
   "source": [
    "### Local"
   ]
  },
  {
   "cell_type": "code",
   "execution_count": 72,
   "metadata": {},
   "outputs": [],
   "source": [
    "reps_local = np.asarray(sentence_rep)\r\n",
    "X_tr = reps_local[:train_stop_ix]\r\n",
    "X_dev = reps_local[train_stop_ix:dev_stop_ix]\r\n",
    "X_te = reps_local[dev_stop_ix:]"
   ]
  },
  {
   "cell_type": "code",
   "execution_count": 75,
   "metadata": {},
   "outputs": [
    {
     "name": "stdout",
     "output_type": "stream",
     "text": [
      "epoch 1, score: 0.6764705882352942\n",
      "epoch 2, score: 0.7205882352941176\n",
      "epoch 3, score: 0.7377450980392157\n",
      "epoch 4, score: 0.7058823529411765\n",
      "epoch 5, score: 0.6936274509803921\n",
      "epoch 6, score: 0.6985294117647058\n",
      "epoch 7, score: 0.6936274509803921\n",
      "epoch 8, score: 0.6985294117647058\n",
      "epoch 9, score: 0.7009803921568627\n",
      "epoch 10, score: 0.7034313725490197\n"
     ]
    }
   ],
   "source": [
    "clf3, score3 = get_best_classifier(10,X_tr,Y_tr,X_dev,Y_dev)"
   ]
  },
  {
   "cell_type": "code",
   "execution_count": 76,
   "metadata": {},
   "outputs": [
    {
     "data": {
      "text/plain": "0.7008695652173913"
     },
     "execution_count": 76,
     "metadata": {},
     "output_type": "execute_result"
    }
   ],
   "source": [
    "clf3.score(X_te,Y_te)"
   ]
  }
 ],
 "metadata": {
  "kernelspec": {
   "display_name": "Python 3.8.11 64-bit ('repro': conda)",
   "name": "python3811jvsc74a57bd0556d0f6bb3e19b5350a50c9b037347830b2ef0c6b7dbb2b89c6068584bda62c6"
  },
  "language_info": {
   "codemirror_mode": {
    "name": "ipython",
    "version": 3
   },
   "file_extension": ".py",
   "mimetype": "text/x-python",
   "name": "python",
   "nbconvert_exporter": "python",
   "pygments_lexer": "ipython3",
   "version": "3.8.11"
  },
  "orig_nbformat": 2
 },
 "nbformat": 4,
 "nbformat_minor": 2
}