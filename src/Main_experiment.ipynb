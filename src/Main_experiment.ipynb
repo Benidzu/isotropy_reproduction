{
 "cells": [
  {
   "cell_type": "code",
   "execution_count": 1,
   "metadata": {},
   "outputs": [],
   "source": [
    "from IPython.display import clear_output\r\n",
    "from functions import *\r\n",
    "import numpy as np\r\n",
    "import pandas as pd\r\n",
    "from transformers import *\r\n",
    "import tensorflow as tf\r\n",
    "import pickle\r\n",
    "import scipy as sc\r\n",
    "import math as mt\r\n",
    "# from scipy import cluster as clst\r\n",
    "# from sklearn.metrics.pairwise import cosine_similarity\r\n",
    "# from sklearn.decomposition import PCA"
   ]
  },
  {
   "cell_type": "markdown",
   "metadata": {},
   "source": [
    "## Import data"
   ]
  },
  {
   "cell_type": "code",
   "execution_count": 24,
   "metadata": {},
   "outputs": [],
   "source": [
    "#dfd = pd.read_csv('sts-dev.csv', delimiter='\\t' , error_bad_lines=False)\r\n",
    "#STS-B\r\n",
    "#dfd = pd.read_csv('sts-test.csv', delimiter='\\t' , error_bad_lines=False)\r\n",
    "#STS-2012\r\n",
    "#dfd = pd.read_csv('../data/sts-2012-test/STS.input.ALL.csv', delimiter='\\t' , error_bad_lines=False)\r\n",
    "#STS-2013\r\n",
    "#dfd = pd.read_csv('../data/sts-2013-test/STS.input.ALL.csv', delimiter='\\t' , error_bad_lines=False)\r\n",
    "#STS-2014\r\n",
    "#dfd = pd.read_csv('../data/sts-2014-test/STS.input.ALL.csv', delimiter='\\t' , error_bad_lines=False)\r\n",
    "#STS-2015\r\n",
    "# dfd = pd.read_csv('../data/sts-2015-test/STS.input.ALL.csv', delimiter='\\t' , error_bad_lines=False)\r\n",
    "# dfd = dfd[dfd[\"corr\"] != -1]\r\n",
    "#STS-2016\r\n",
    "# dfd = pd.read_csv('../data/sts-2016-test/STS2016.input.ALL.csv', delimiter='\\t' , error_bad_lines=False)\r\n",
    "# dfd = dfd[dfd[\"corr\"] != -1]\r\n",
    "#SICK-R\r\n",
    "dfd = pd.read_csv('../data/sick-r-test/SICK.csv', delimiter='\\t' , error_bad_lines=False)\r\n",
    "clear_output()"
   ]
  },
  {
   "cell_type": "code",
   "execution_count": 25,
   "metadata": {},
   "outputs": [
    {
     "data": {
      "text/html": "<div>\n<style scoped>\n    .dataframe tbody tr th:only-of-type {\n        vertical-align: middle;\n    }\n\n    .dataframe tbody tr th {\n        vertical-align: top;\n    }\n\n    .dataframe thead th {\n        text-align: right;\n    }\n</style>\n<table border=\"1\" class=\"dataframe\">\n  <thead>\n    <tr style=\"text-align: right;\">\n      <th></th>\n      <th>pair_ID</th>\n      <th>sentence1</th>\n      <th>sentence2</th>\n      <th>entailment_label</th>\n      <th>corr</th>\n      <th>entailment_AB</th>\n      <th>entailment_BA</th>\n      <th>sentence_A_original</th>\n      <th>sentence_B_original</th>\n      <th>sentence_A_dataset</th>\n      <th>sentence_B_dataset</th>\n      <th>SemEval_set</th>\n    </tr>\n  </thead>\n  <tbody>\n    <tr>\n      <th>0</th>\n      <td>1</td>\n      <td>A group of kids is playing in a yard and an ol...</td>\n      <td>A group of boys in a yard is playing and a man...</td>\n      <td>NEUTRAL</td>\n      <td>4.5</td>\n      <td>A_neutral_B</td>\n      <td>B_neutral_A</td>\n      <td>A group of children playing in a yard, a man i...</td>\n      <td>A group of children playing in a yard, a man i...</td>\n      <td>FLICKR</td>\n      <td>FLICKR</td>\n      <td>TRAIN</td>\n    </tr>\n    <tr>\n      <th>1</th>\n      <td>2</td>\n      <td>A group of children is playing in the house an...</td>\n      <td>A group of kids is playing in a yard and an ol...</td>\n      <td>NEUTRAL</td>\n      <td>3.2</td>\n      <td>A_contradicts_B</td>\n      <td>B_neutral_A</td>\n      <td>A group of children playing in a yard, a man i...</td>\n      <td>A group of children playing in a yard, a man i...</td>\n      <td>FLICKR</td>\n      <td>FLICKR</td>\n      <td>TRAIN</td>\n    </tr>\n    <tr>\n      <th>2</th>\n      <td>3</td>\n      <td>The young boys are playing outdoors and the ma...</td>\n      <td>The kids are playing outdoors near a man with ...</td>\n      <td>ENTAILMENT</td>\n      <td>4.7</td>\n      <td>A_entails_B</td>\n      <td>B_entails_A</td>\n      <td>The children are playing outdoors, while a man...</td>\n      <td>The children are playing outdoors, while a man...</td>\n      <td>FLICKR</td>\n      <td>FLICKR</td>\n      <td>TRAIN</td>\n    </tr>\n    <tr>\n      <th>3</th>\n      <td>4</td>\n      <td>The young boys are playing outdoors and the ma...</td>\n      <td>There is no boy playing outdoors and there is ...</td>\n      <td>CONTRADICTION</td>\n      <td>3.6</td>\n      <td>A_contradicts_B</td>\n      <td>B_contradicts_A</td>\n      <td>The children are playing outdoors, while a man...</td>\n      <td>The children are playing outdoors, while a man...</td>\n      <td>FLICKR</td>\n      <td>FLICKR</td>\n      <td>TRIAL</td>\n    </tr>\n    <tr>\n      <th>4</th>\n      <td>5</td>\n      <td>The kids are playing outdoors near a man with ...</td>\n      <td>A group of kids is playing in a yard and an ol...</td>\n      <td>NEUTRAL</td>\n      <td>3.4</td>\n      <td>A_neutral_B</td>\n      <td>B_neutral_A</td>\n      <td>A group of children playing in a yard, a man i...</td>\n      <td>The children are playing outdoors, while a man...</td>\n      <td>FLICKR</td>\n      <td>FLICKR</td>\n      <td>TRAIN</td>\n    </tr>\n    <tr>\n      <th>...</th>\n      <td>...</td>\n      <td>...</td>\n      <td>...</td>\n      <td>...</td>\n      <td>...</td>\n      <td>...</td>\n      <td>...</td>\n      <td>...</td>\n      <td>...</td>\n      <td>...</td>\n      <td>...</td>\n      <td>...</td>\n    </tr>\n    <tr>\n      <th>9835</th>\n      <td>9996</td>\n      <td>A man is in a parking lot and is playing tenni...</td>\n      <td>The snowboarder is leaping fearlessly over whi...</td>\n      <td>NEUTRAL</td>\n      <td>1.0</td>\n      <td>A_neutral_B</td>\n      <td>B_neutral_A</td>\n      <td>A man is playing tennis with himself against a...</td>\n      <td>A snowboarder launches into the air over white...</td>\n      <td>FLICKR</td>\n      <td>FLICKR</td>\n      <td>TEST</td>\n    </tr>\n    <tr>\n      <th>9836</th>\n      <td>9997</td>\n      <td>Someone is boiling okra in a pot</td>\n      <td>The man is not playing the drums</td>\n      <td>NEUTRAL</td>\n      <td>1.0</td>\n      <td>A_neutral_B</td>\n      <td>B_neutral_A</td>\n      <td>someone is boiling okra in a pot</td>\n      <td>the man is playing the drums</td>\n      <td>SEMEVAL</td>\n      <td>SEMEVAL</td>\n      <td>TRAIN</td>\n    </tr>\n    <tr>\n      <th>9837</th>\n      <td>9998</td>\n      <td>The man is singing heartily and playing the gu...</td>\n      <td>A bicyclist is holding a bike over his head in...</td>\n      <td>NEUTRAL</td>\n      <td>1.0</td>\n      <td>A_neutral_B</td>\n      <td>B_neutral_A</td>\n      <td>the man sang and played his guitar</td>\n      <td>a bicyclist holds their bike over their head b...</td>\n      <td>SEMEVAL</td>\n      <td>FLICKR</td>\n      <td>TRAIN</td>\n    </tr>\n    <tr>\n      <th>9838</th>\n      <td>9999</td>\n      <td>A man in blue has a yellow ball in the mitt</td>\n      <td>A man is jumping rope outside</td>\n      <td>NEUTRAL</td>\n      <td>1.2</td>\n      <td>A_neutral_B</td>\n      <td>B_neutral_A</td>\n      <td>a man is jumping rope outside</td>\n      <td>a woman in blue has a yellow ball in her mitt</td>\n      <td>SEMEVAL</td>\n      <td>FLICKR</td>\n      <td>TRAIN</td>\n    </tr>\n    <tr>\n      <th>9839</th>\n      <td>10000</td>\n      <td>Three dogs are resting on a sidewalk</td>\n      <td>The woman with a knife is slicing a pepper</td>\n      <td>NEUTRAL</td>\n      <td>1.0</td>\n      <td>A_neutral_B</td>\n      <td>B_neutral_A</td>\n      <td>a woman with a knife is slicing a pepper</td>\n      <td>three dogs on a sidewalk</td>\n      <td>SEMEVAL</td>\n      <td>FLICKR</td>\n      <td>TRAIN</td>\n    </tr>\n  </tbody>\n</table>\n<p>9840 rows × 12 columns</p>\n</div>",
      "text/plain": "      pair_ID                                          sentence1  \\\n0           1  A group of kids is playing in a yard and an ol...   \n1           2  A group of children is playing in the house an...   \n2           3  The young boys are playing outdoors and the ma...   \n3           4  The young boys are playing outdoors and the ma...   \n4           5  The kids are playing outdoors near a man with ...   \n...       ...                                                ...   \n9835     9996  A man is in a parking lot and is playing tenni...   \n9836     9997                   Someone is boiling okra in a pot   \n9837     9998  The man is singing heartily and playing the gu...   \n9838     9999        A man in blue has a yellow ball in the mitt   \n9839    10000               Three dogs are resting on a sidewalk   \n\n                                              sentence2 entailment_label  \\\n0     A group of boys in a yard is playing and a man...          NEUTRAL   \n1     A group of kids is playing in a yard and an ol...          NEUTRAL   \n2     The kids are playing outdoors near a man with ...       ENTAILMENT   \n3     There is no boy playing outdoors and there is ...    CONTRADICTION   \n4     A group of kids is playing in a yard and an ol...          NEUTRAL   \n...                                                 ...              ...   \n9835  The snowboarder is leaping fearlessly over whi...          NEUTRAL   \n9836                   The man is not playing the drums          NEUTRAL   \n9837  A bicyclist is holding a bike over his head in...          NEUTRAL   \n9838                      A man is jumping rope outside          NEUTRAL   \n9839         The woman with a knife is slicing a pepper          NEUTRAL   \n\n      corr    entailment_AB    entailment_BA  \\\n0      4.5      A_neutral_B      B_neutral_A   \n1      3.2  A_contradicts_B      B_neutral_A   \n2      4.7      A_entails_B      B_entails_A   \n3      3.6  A_contradicts_B  B_contradicts_A   \n4      3.4      A_neutral_B      B_neutral_A   \n...    ...              ...              ...   \n9835   1.0      A_neutral_B      B_neutral_A   \n9836   1.0      A_neutral_B      B_neutral_A   \n9837   1.0      A_neutral_B      B_neutral_A   \n9838   1.2      A_neutral_B      B_neutral_A   \n9839   1.0      A_neutral_B      B_neutral_A   \n\n                                    sentence_A_original  \\\n0     A group of children playing in a yard, a man i...   \n1     A group of children playing in a yard, a man i...   \n2     The children are playing outdoors, while a man...   \n3     The children are playing outdoors, while a man...   \n4     A group of children playing in a yard, a man i...   \n...                                                 ...   \n9835  A man is playing tennis with himself against a...   \n9836                   someone is boiling okra in a pot   \n9837                 the man sang and played his guitar   \n9838                      a man is jumping rope outside   \n9839           a woman with a knife is slicing a pepper   \n\n                                    sentence_B_original sentence_A_dataset  \\\n0     A group of children playing in a yard, a man i...             FLICKR   \n1     A group of children playing in a yard, a man i...             FLICKR   \n2     The children are playing outdoors, while a man...             FLICKR   \n3     The children are playing outdoors, while a man...             FLICKR   \n4     The children are playing outdoors, while a man...             FLICKR   \n...                                                 ...                ...   \n9835  A snowboarder launches into the air over white...             FLICKR   \n9836                       the man is playing the drums            SEMEVAL   \n9837  a bicyclist holds their bike over their head b...            SEMEVAL   \n9838      a woman in blue has a yellow ball in her mitt            SEMEVAL   \n9839                           three dogs on a sidewalk            SEMEVAL   \n\n     sentence_B_dataset SemEval_set  \n0                FLICKR       TRAIN  \n1                FLICKR       TRAIN  \n2                FLICKR       TRAIN  \n3                FLICKR       TRIAL  \n4                FLICKR       TRAIN  \n...                 ...         ...  \n9835             FLICKR        TEST  \n9836            SEMEVAL       TRAIN  \n9837             FLICKR       TRAIN  \n9838             FLICKR       TRAIN  \n9839             FLICKR       TRAIN  \n\n[9840 rows x 12 columns]"
     },
     "execution_count": 25,
     "metadata": {},
     "output_type": "execute_result"
    }
   ],
   "source": [
    "dfd"
   ]
  },
  {
   "cell_type": "code",
   "execution_count": 27,
   "metadata": {},
   "outputs": [
    {
     "data": {
      "text/plain": "9840"
     },
     "execution_count": 27,
     "metadata": {},
     "output_type": "execute_result"
    }
   ],
   "source": [
    "# Check for errors\r\n",
    "dfd = dfd[np.logical_not(pd.isna(dfd[\"sentence2\"]))]\r\n",
    "len(dfd)"
   ]
  },
  {
   "cell_type": "markdown",
   "metadata": {},
   "source": [
    "## Loading models - choose and run one cell"
   ]
  },
  {
   "cell_type": "code",
   "execution_count": 15,
   "metadata": {},
   "outputs": [],
   "source": [
    "# BERT\r\n",
    "casing = \"bert-base-uncased\" \r\n",
    "tokenizer = BertTokenizer.from_pretrained(casing, do_lower_case=True, add_special_tokens=True)\r\n",
    "\r\n",
    "config = BertConfig(hidden_dropout_prob=0.2, attention_probs_dropout_prob=0.2 )\r\n",
    "config.output_hidden_states = True\r\n",
    "\r\n",
    "model = TFBertModel.from_pretrained(casing, config = config)\r\n",
    "model.trainable = False\r\n",
    "emb_len = 768\r\n",
    "clear_output()\r\n",
    "\r\n",
    "# BERT\r\n",
    "n_cluster = 27 # Number of clusters to use\r\n",
    "n_pc = 12 # Number of main principal components to drop for local method\r\n",
    "n_pc_global = 15 # Number of main principal components to drop for global method"
   ]
  },
  {
   "cell_type": "code",
   "execution_count": 2,
   "metadata": {},
   "outputs": [],
   "source": [
    "# GPT-2\r\n",
    "casing = \"gpt2\" \r\n",
    "tokenizer = GPT2Tokenizer.from_pretrained(casing, do_lower_case=True, add_special_tokens=True)\r\n",
    "config = GPT2Config()\r\n",
    "config.output_hidden_states = True\r\n",
    "\r\n",
    "model = TFGPT2Model.from_pretrained(casing, config=config)\r\n",
    "model.trainable = False\r\n",
    "\r\n",
    "emb_len = 768\r\n",
    "clear_output()\r\n",
    "\r\n",
    "# GPT2\r\n",
    "n_cluster = 10\r\n",
    "n_pc = 30\r\n",
    "n_pc_global = 30"
   ]
  },
  {
   "cell_type": "code",
   "execution_count": 4,
   "metadata": {},
   "outputs": [],
   "source": [
    "# RoBERTa\r\n",
    "casing = \"roberta-base\"\r\n",
    "tokenizer = RobertaTokenizer.from_pretrained(casing, do_lower_case=True, add_special_tokens=True)\r\n",
    "config = RobertaConfig.from_pretrained(casing)\r\n",
    "config.output_hidden_states = True\r\n",
    "\r\n",
    "model = TFRobertaModel.from_pretrained(casing, config=config)\r\n",
    "model.trainable = False\r\n",
    "emb_len = 768\r\n",
    "clear_output()\r\n",
    "\r\n",
    "# RoBERTa\r\n",
    "n_cluster = 27\r\n",
    "n_pc = 12\r\n",
    "n_pc_global = 25"
   ]
  },
  {
   "cell_type": "markdown",
   "metadata": {},
   "source": [
    "## Get sentences and words representations"
   ]
  },
  {
   "cell_type": "code",
   "execution_count": 43,
   "metadata": {},
   "outputs": [],
   "source": [
    "# Get sentence representations BERT/GPT2/RoBERTa\r\n",
    "#sentences = get_representations(dfd, tokenizer, model, emb_len)\r\n",
    "sentences = np.load(\"roberta-sick-test.npy\", allow_pickle=True).tolist()\r\n",
    "words = getWords(sentences)\r\n",
    "clear_output()"
   ]
  },
  {
   "cell_type": "code",
   "execution_count": 33,
   "metadata": {},
   "outputs": [],
   "source": [
    "# HELPER\r\n",
    "np.save(\"gpt2-sick-test.npy\", np.asarray(sentences, dtype=object))"
   ]
  },
  {
   "cell_type": "markdown",
   "metadata": {},
   "source": [
    "### Run multiple experiments..."
   ]
  },
  {
   "cell_type": "code",
   "execution_count": 7,
   "metadata": {},
   "outputs": [],
   "source": [
    "# datasets = [ \"sts-test.csv\", \"../data/sts-2015-test/STS.input.ALL.csv\", \"../data/sts-2014-test/STS.input.ALL.csv\", \"../data/sts-2013-test/STS.input.ALL.csv\", \"../data/sts-2012-test/STS.input.ALL.csv\"]\r\n",
    "# npynames = [\"gpt2-stsb-test.npy\", \"gpt2-sts2015-test.npy\", \"gpt2-sts2014-test.npy\", \"gpt2-sts2013-test.npy\", \"gpt2-sts2012-test.npy\" ]\r\n",
    "\r\n",
    "# for i in range(len(datasets)):\r\n",
    "#     dsName = datasets[i]\r\n",
    "#     npyName = npynames[i]\r\n",
    "#     dfd = pd.read_csv(dsName, delimiter='\\t' , error_bad_lines=False)\r\n",
    "#     dfd = dfd[dfd[\"corr\"] != -1]\r\n",
    "#     dfd = dfd[np.logical_not(pd.isna(dfd[\"sentence2\"]))]\r\n",
    "#     sentences = get_representations(dfd, tokenizer, model, emb_len)\r\n",
    "#     np.save(npyName, np.asarray(sentences, dtype=object))\r\n"
   ]
  },
  {
   "cell_type": "markdown",
   "metadata": {},
   "source": [
    "## Get representations via baseline, global method, local (isotropy enhancing) method "
   ]
  },
  {
   "cell_type": "code",
   "execution_count": null,
   "metadata": {},
   "outputs": [],
   "source": [
    "# BASELINE\r\n",
    "baseline_sentence_rep = mean_pooling(words, sentences)\r\n",
    "baseline_score = similarity(baseline_sentence_rep, emb_len)\r\n",
    "\r\n",
    "# GLOBAL METHOD\r\n",
    "global_representations = global_method(np.asarray(words), n_pc_global, emb_len)\r\n",
    "global_sentence_rep = mean_pooling(global_representations, sentences)\r\n",
    "global_score = similarity(global_sentence_rep, emb_len)\r\n",
    "\r\n",
    "# LOCAL METHOD\r\n",
    "isotropic_representations = cluster_based(np.asarray(words), n_cluster, n_pc, emb_len)\r\n",
    "# calculating sentence representations based on mean word (isotropised) representations\r\n",
    "sentence_rep = mean_pooling(isotropic_representations, sentences)\r\n",
    "local_score = similarity(sentence_rep, emb_len)"
   ]
  },
  {
   "cell_type": "code",
   "execution_count": 47,
   "metadata": {},
   "outputs": [
    {
     "name": "stdout",
     "output_type": "stream",
     "text": [
      "Spearman Correlation baseline:  62.38745752100364\n",
      "Spearman Correlation global:  65.82563567035892\n",
      "Spearman Correlation local:  64.72507185296475\n",
      "Isotropy baseline:  5.857797332824382e-06\n",
      "Isotropy global:  0.9053698891016388\n",
      "Isotropy local:  0.9506556580464818\n"
     ]
    }
   ],
   "source": [
    "# performance\r\n",
    "print(\"Spearman Correlation baseline: \",sper_corrcoef(dfd['corr'], baseline_score))\r\n",
    "print(\"Spearman Correlation global: \",sper_corrcoef(dfd['corr'], global_score))\r\n",
    "print(\"Spearman Correlation local: \",sper_corrcoef(dfd['corr'], local_score))\r\n",
    "\r\n",
    "# isotropy of space\r\n",
    "print(\"Isotropy baseline: \", isotropy(np.asarray(baseline_sentence_rep, dtype=np.float64)))\r\n",
    "print(\"Isotropy global: \", isotropy(global_representations))\r\n",
    "print(\"Isotropy local: \", isotropy(isotropic_representations))"
   ]
  },
  {
   "cell_type": "code",
   "execution_count": 48,
   "metadata": {},
   "outputs": [
    {
     "name": "stdout",
     "output_type": "stream",
     "text": [
      "Spearman Correlation local:  65.07141874721928\n"
     ]
    }
   ],
   "source": [
    "# REPEAT LAST METHOD\r\n",
    "isotropic_representations = cluster_based(np.asarray(words), n_cluster, n_pc, emb_len)\r\n",
    "sentence_rep = mean_pooling(isotropic_representations, sentences)\r\n",
    "local_score = similarity(sentence_rep, emb_len)\r\n",
    "\r\n",
    "print(\"Spearman Correlation local: \",sper_corrcoef(dfd['corr'], local_score))\r\n",
    "#print(\"Isotropy local: \", isotropy(isotropic_representations))"
   ]
  },
  {
   "cell_type": "markdown",
   "metadata": {},
   "source": [
    "### Run multiple experiments..."
   ]
  },
  {
   "cell_type": "code",
   "execution_count": 5,
   "metadata": {},
   "outputs": [],
   "source": [
    "# npynames = [\"roberta-stsb-test.npy\", \"roberta-sts2015-test.npy\", \"roberta-sts2014-test.npy\", \"roberta-sts2013-test.npy\", \"roberta-sts2012-test.npy\" ]\r\n",
    "# datasets = [ \"sts-test.csv\", \"../data/sts-2015-test/STS.input.ALL.csv\", \"../data/sts-2014-test/STS.input.ALL.csv\", \"../data/sts-2013-test/STS.input.ALL.csv\", \"../data/sts-2012-test/STS.input.ALL.csv\"]\r\n",
    "# appendfile = open(\"results3.txt\", \"a\")\r\n",
    "\r\n",
    "# for i in range(len(npynames)):\r\n",
    "#     dsName = datasets[i]\r\n",
    "#     dfd = pd.read_csv(dsName, delimiter='\\t' , error_bad_lines=False)\r\n",
    "#     dfd = dfd[dfd[\"corr\"] != -1]\r\n",
    "#     dfd = dfd[np.logical_not(pd.isna(dfd[\"sentence2\"]))]\r\n",
    "#     sentences = np.load(npynames[i], allow_pickle=True).tolist()\r\n",
    "#     words = getWords(sentences)\r\n",
    "\r\n",
    "#     baseline_sentence_rep = mean_pooling(words, sentences)\r\n",
    "#     baseline_score = similarity(baseline_sentence_rep, emb_len)\r\n",
    "\r\n",
    "#     # GLOBAL METHOD\r\n",
    "#     global_representations = global_method(np.asarray(words), n_pc_global, emb_len)\r\n",
    "#     global_sentence_rep = mean_pooling(global_representations, sentences)\r\n",
    "#     global_score = similarity(global_sentence_rep, emb_len)\r\n",
    "\r\n",
    "#     # LOCAL METHOD\r\n",
    "#     isotropic_representations = cluster_based(np.asarray(words), n_cluster, n_pc, emb_len)\r\n",
    "#     # calculating sentence representations based on mean word (isotropised) representations\r\n",
    "#     sentence_rep = mean_pooling(isotropic_representations, sentences)\r\n",
    "#     local_score = similarity(sentence_rep, emb_len)\r\n",
    "\r\n",
    "#     appendfile.write(npynames[i]+\"\\n\")\r\n",
    "#     appendfile.write(\"Spearman Correlation baseline: \" + str(sper_corrcoef(dfd['corr'], baseline_score)) + \"\\n\")\r\n",
    "#     appendfile.write(\"Spearman Correlation global: \" + str(sper_corrcoef(dfd['corr'], global_score))+ \"\\n\")\r\n",
    "#     appendfile.write(\"Spearman Correlation local: \" + str(sper_corrcoef(dfd['corr'], local_score))+ \"\\n\")\r\n",
    "#     appendfile.flush()\r\n",
    "#     # isotropy of space\r\n",
    "#     appendfile.write(\"Isotropy baseline: \" + str(isotropy(np.asarray(baseline_sentence_rep, dtype=np.float64)))+ \"\\n\")\r\n",
    "#     appendfile.write(\"Isotropy global: \" + str(isotropy(global_representations))+ \"\\n\")\r\n",
    "#     appendfile.write(\"Isotropy local: \" + str(isotropy(isotropic_representations))+ \"\\n\")\r\n",
    "#     appendfile.write(\"---------\\n\")\r\n",
    "#     appendfile.flush()"
   ]
  }
 ],
 "metadata": {
  "kernelspec": {
   "display_name": "Python 3.8.11 64-bit ('repro': conda)",
   "name": "python3811jvsc74a57bd0556d0f6bb3e19b5350a50c9b037347830b2ef0c6b7dbb2b89c6068584bda62c6"
  },
  "language_info": {
   "codemirror_mode": {
    "name": "ipython",
    "version": 3
   },
   "file_extension": ".py",
   "mimetype": "text/x-python",
   "name": "python",
   "nbconvert_exporter": "python",
   "pygments_lexer": "ipython3",
   "version": "3.8.11"
  },
  "orig_nbformat": 2
 },
 "nbformat": 4,
 "nbformat_minor": 2
}