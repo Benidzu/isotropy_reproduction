{
 "cells": [
  {
   "cell_type": "code",
   "execution_count": 1,
   "metadata": {},
   "outputs": [],
   "source": [
    "from IPython.display import clear_output\r\n",
    "from functions import *\r\n",
    "import numpy as np\r\n",
    "import pandas as pd\r\n",
    "from transformers import *\r\n",
    "import tensorflow as tf\r\n",
    "import pickle\r\n",
    "import scipy as sc\r\n",
    "import math as mt\r\n",
    "import random"
   ]
  },
  {
   "cell_type": "markdown",
   "metadata": {},
   "source": [
    "### Load model & Data"
   ]
  },
  {
   "cell_type": "code",
   "execution_count": null,
   "metadata": {},
   "outputs": [],
   "source": [
    "dfd = pd.read_csv('sts-dev.csv', delimiter='\\t' , error_bad_lines=False)\r\n",
    "dfd = dfd[np.logical_not(pd.isna(dfd[\"sentence2\"]))]"
   ]
  },
  {
   "cell_type": "code",
   "execution_count": 3,
   "metadata": {},
   "outputs": [
    {
     "data": {
      "text/html": "<div>\n<style scoped>\n    .dataframe tbody tr th:only-of-type {\n        vertical-align: middle;\n    }\n\n    .dataframe tbody tr th {\n        vertical-align: top;\n    }\n\n    .dataframe thead th {\n        text-align: right;\n    }\n</style>\n<table border=\"1\" class=\"dataframe\">\n  <thead>\n    <tr style=\"text-align: right;\">\n      <th></th>\n      <th>type</th>\n      <th>subtype</th>\n      <th>year</th>\n      <th>num</th>\n      <th>corr</th>\n      <th>sentence1</th>\n      <th>sentence2</th>\n    </tr>\n  </thead>\n  <tbody>\n    <tr>\n      <th>0</th>\n      <td>main-captions</td>\n      <td>MSRvid</td>\n      <td>2012test</td>\n      <td>0</td>\n      <td>5.00</td>\n      <td>A man with a hard hat is dancing.</td>\n      <td>A man wearing a hard hat is dancing.</td>\n    </tr>\n    <tr>\n      <th>1</th>\n      <td>main-captions</td>\n      <td>MSRvid</td>\n      <td>2012test</td>\n      <td>2</td>\n      <td>4.75</td>\n      <td>A young child is riding a horse.</td>\n      <td>A child is riding a horse.</td>\n    </tr>\n    <tr>\n      <th>2</th>\n      <td>main-captions</td>\n      <td>MSRvid</td>\n      <td>2012test</td>\n      <td>3</td>\n      <td>5.00</td>\n      <td>A man is feeding a mouse to a snake.</td>\n      <td>The man is feeding a mouse to the snake.</td>\n    </tr>\n    <tr>\n      <th>3</th>\n      <td>main-captions</td>\n      <td>MSRvid</td>\n      <td>2012test</td>\n      <td>7</td>\n      <td>2.40</td>\n      <td>A woman is playing the guitar.</td>\n      <td>A man is playing guitar.</td>\n    </tr>\n    <tr>\n      <th>4</th>\n      <td>main-captions</td>\n      <td>MSRvid</td>\n      <td>2012test</td>\n      <td>8</td>\n      <td>2.75</td>\n      <td>A woman is playing the flute.</td>\n      <td>A man is playing a flute.</td>\n    </tr>\n    <tr>\n      <th>...</th>\n      <td>...</td>\n      <td>...</td>\n      <td>...</td>\n      <td>...</td>\n      <td>...</td>\n      <td>...</td>\n      <td>...</td>\n    </tr>\n    <tr>\n      <th>1439</th>\n      <td>main-news</td>\n      <td>headlines</td>\n      <td>2015</td>\n      <td>1417</td>\n      <td>4.60</td>\n      <td>World's oldest man dies at 116</td>\n      <td>Japan: World's Oldest Man Ever Dies Aged 116</td>\n    </tr>\n    <tr>\n      <th>1440</th>\n      <td>main-news</td>\n      <td>headlines</td>\n      <td>2015</td>\n      <td>1426</td>\n      <td>3.40</td>\n      <td>Pakistanis vote in landmark election</td>\n      <td>Pakistan holds landmark election as 29 killed ...</td>\n    </tr>\n    <tr>\n      <th>1441</th>\n      <td>main-news</td>\n      <td>headlines</td>\n      <td>2015</td>\n      <td>1447</td>\n      <td>0.40</td>\n      <td>Algeria president gets therapy after stroke: s...</td>\n      <td>Bulgarian president tries to break election st...</td>\n    </tr>\n    <tr>\n      <th>1442</th>\n      <td>main-news</td>\n      <td>headlines</td>\n      <td>2015</td>\n      <td>1471</td>\n      <td>0.00</td>\n      <td>Yemen: Fighting in north kills over 120</td>\n      <td>Janet Yellen: Five things you might not know</td>\n    </tr>\n    <tr>\n      <th>1443</th>\n      <td>main-news</td>\n      <td>headlines</td>\n      <td>2015</td>\n      <td>1474</td>\n      <td>4.80</td>\n      <td>Pakistan's Musharraf charged over Bhutto murder</td>\n      <td>Pakistan's Musharraf Charged In Bhutto Death</td>\n    </tr>\n  </tbody>\n</table>\n<p>1444 rows × 7 columns</p>\n</div>",
      "text/plain": "               type    subtype      year   num  corr  \\\n0     main-captions     MSRvid  2012test     0  5.00   \n1     main-captions     MSRvid  2012test     2  4.75   \n2     main-captions     MSRvid  2012test     3  5.00   \n3     main-captions     MSRvid  2012test     7  2.40   \n4     main-captions     MSRvid  2012test     8  2.75   \n...             ...        ...       ...   ...   ...   \n1439      main-news  headlines      2015  1417  4.60   \n1440      main-news  headlines      2015  1426  3.40   \n1441      main-news  headlines      2015  1447  0.40   \n1442      main-news  headlines      2015  1471  0.00   \n1443      main-news  headlines      2015  1474  4.80   \n\n                                              sentence1  \\\n0                     A man with a hard hat is dancing.   \n1                      A young child is riding a horse.   \n2                  A man is feeding a mouse to a snake.   \n3                        A woman is playing the guitar.   \n4                         A woman is playing the flute.   \n...                                                 ...   \n1439                     World's oldest man dies at 116   \n1440               Pakistanis vote in landmark election   \n1441  Algeria president gets therapy after stroke: s...   \n1442            Yemen: Fighting in north kills over 120   \n1443    Pakistan's Musharraf charged over Bhutto murder   \n\n                                              sentence2  \n0                  A man wearing a hard hat is dancing.  \n1                            A child is riding a horse.  \n2              The man is feeding a mouse to the snake.  \n3                              A man is playing guitar.  \n4                             A man is playing a flute.  \n...                                                 ...  \n1439       Japan: World's Oldest Man Ever Dies Aged 116  \n1440  Pakistan holds landmark election as 29 killed ...  \n1441  Bulgarian president tries to break election st...  \n1442       Janet Yellen: Five things you might not know  \n1443       Pakistan's Musharraf Charged In Bhutto Death  \n\n[1444 rows x 7 columns]"
     },
     "execution_count": 3,
     "metadata": {},
     "output_type": "execute_result"
    }
   ],
   "source": [
    "dfd"
   ]
  },
  {
   "cell_type": "code",
   "execution_count": 4,
   "metadata": {},
   "outputs": [],
   "source": [
    "# BERT\r\n",
    "casing = \"bert-base-uncased\" \r\n",
    "tokenizer = BertTokenizer.from_pretrained(casing, do_lower_case=True, add_special_tokens=True)\r\n",
    "\r\n",
    "config = BertConfig(dropout=0.2, attention_dropout=0.2 ) #hidden_dropout_prob=0.2, attention_probs_dropout_prob=0.2\r\n",
    "config.output_hidden_states = True\r\n",
    "\r\n",
    "model = TFBertModel.from_pretrained(casing, config = config)\r\n",
    "model.trainable = False\r\n",
    "emb_len = 768\r\n",
    "clear_output()\r\n",
    "\r\n",
    "# BERT\r\n",
    "n_cluster = 27 # Number of clusters to use\r\n",
    "n_pc = 12 # Number of main principal components to drop for local method\r\n",
    "n_pc_global = 15 # Number of main principal components to drop for global method"
   ]
  },
  {
   "cell_type": "code",
   "execution_count": 24,
   "metadata": {},
   "outputs": [],
   "source": [
    "# GPT-2\r\n",
    "casing = \"gpt2\" \r\n",
    "tokenizer = GPT2Tokenizer.from_pretrained(casing, do_lower_case=True, add_special_tokens=True)\r\n",
    "config = GPT2Config()\r\n",
    "config.output_hidden_states = True\r\n",
    "\r\n",
    "model = TFGPT2Model.from_pretrained(casing, config=config)\r\n",
    "model.trainable = False\r\n",
    "\r\n",
    "emb_len = 768\r\n",
    "clear_output()\r\n",
    "\r\n",
    "# GPT2\r\n",
    "n_cluster = 10\r\n",
    "n_pc = 30\r\n",
    "n_pc_global = 30"
   ]
  },
  {
   "cell_type": "code",
   "execution_count": 17,
   "metadata": {},
   "outputs": [],
   "source": [
    "# RoBERTa\r\n",
    "casing = \"roberta-base\"\r\n",
    "tokenizer = RobertaTokenizer.from_pretrained(casing, do_lower_case=True, add_special_tokens=True)\r\n",
    "config = RobertaConfig.from_pretrained(casing)\r\n",
    "config.output_hidden_states = True\r\n",
    "\r\n",
    "model = TFRobertaModel.from_pretrained(casing, config=config)\r\n",
    "model.trainable = False\r\n",
    "emb_len = 768\r\n",
    "clear_output()\r\n",
    "\r\n",
    "# RoBERTa\r\n",
    "n_cluster = 27\r\n",
    "n_pc = 12\r\n",
    "n_pc_global = 25"
   ]
  },
  {
   "cell_type": "markdown",
   "metadata": {},
   "source": [
    "### Get representations"
   ]
  },
  {
   "cell_type": "code",
   "execution_count": 25,
   "metadata": {},
   "outputs": [
    {
     "name": "stdout",
     "output_type": "stream",
     "text": [
      "1441\n",
      "1442\n",
      "1443\n"
     ]
    }
   ],
   "source": [
    "sentences = get_representations(dfd, tokenizer, model, emb_len)\r\n",
    "words = getWords(sentences)"
   ]
  },
  {
   "cell_type": "code",
   "execution_count": 26,
   "metadata": {},
   "outputs": [],
   "source": [
    "# Save partial results\r\n",
    "np.save(\"gpt2-stsb-dev.npy\",np.asarray(sentences, dtype=object))"
   ]
  },
  {
   "cell_type": "markdown",
   "metadata": {},
   "source": [
    "### Calculate isotropies"
   ]
  },
  {
   "cell_type": "code",
   "execution_count": 29,
   "metadata": {},
   "outputs": [
    {
     "data": {
      "text/plain": "1.2712387193789697e-126"
     },
     "execution_count": 29,
     "metadata": {},
     "output_type": "execute_result"
    }
   ],
   "source": [
    "# baseline\r\n",
    "isotropy(np.asarray(words,dtype=np.float64))"
   ]
  },
  {
   "cell_type": "code",
   "execution_count": 30,
   "metadata": {},
   "outputs": [
    {
     "name": "stdout",
     "output_type": "stream",
     "text": [
      "3.623403960360555e-220\n",
      "1.2120785667158076e-73\n",
      "3.369456262598478e-61\n",
      "7.059176146923158e-54\n",
      "8.420955618933535e-101\n"
     ]
    }
   ],
   "source": [
    "# isotropy when clustering with different k\r\n",
    "ks = [1,3,6,9,20]\r\n",
    "for k in ks:\r\n",
    "    impr_words = cluster_and_zero_mean(words,k,emb_len)\r\n",
    "    impr_words = impr_words.reshape((impr_words.shape[0], impr_words.shape[2]))\r\n",
    "    print(isotropy(np.asarray(impr_words,dtype=np.float64)))"
   ]
  }
 ],
 "metadata": {
  "kernelspec": {
   "display_name": "Python 3.8.11 64-bit",
   "name": "python3811jvsc74a57bd0556d0f6bb3e19b5350a50c9b037347830b2ef0c6b7dbb2b89c6068584bda62c6"
  },
  "language_info": {
   "name": "python",
   "version": ""
  },
  "orig_nbformat": 2
 },
 "nbformat": 4,
 "nbformat_minor": 2
}